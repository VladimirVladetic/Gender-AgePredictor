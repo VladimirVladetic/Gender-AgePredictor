{
  "nbformat": 4,
  "nbformat_minor": 0,
  "metadata": {
    "colab": {
      "provenance": [],
      "gpuType": "T4",
      "authorship_tag": "ABX9TyPy6ed5F7Z6VqPacI77RWfZ",
      "include_colab_link": true
    },
    "kernelspec": {
      "name": "python3",
      "display_name": "Python 3"
    },
    "language_info": {
      "name": "python"
    },
    "widgets": {
      "application/vnd.jupyter.widget-state+json": {
        "23e2f0f2ecec4ff384d276aad70a183a": {
          "model_module": "@jupyter-widgets/controls",
          "model_name": "HBoxModel",
          "model_module_version": "1.5.0",
          "state": {
            "_dom_classes": [],
            "_model_module": "@jupyter-widgets/controls",
            "_model_module_version": "1.5.0",
            "_model_name": "HBoxModel",
            "_view_count": null,
            "_view_module": "@jupyter-widgets/controls",
            "_view_module_version": "1.5.0",
            "_view_name": "HBoxView",
            "box_style": "",
            "children": [
              "IPY_MODEL_aa5c76824f194990be40b7cf19426118",
              "IPY_MODEL_2379daeb10184e39ba35eeca1990009c",
              "IPY_MODEL_038d9a704d22466a9409ad7ccda34c7b"
            ],
            "layout": "IPY_MODEL_117bfc75331543a89f597ee1780c6808"
          }
        },
        "aa5c76824f194990be40b7cf19426118": {
          "model_module": "@jupyter-widgets/controls",
          "model_name": "HTMLModel",
          "model_module_version": "1.5.0",
          "state": {
            "_dom_classes": [],
            "_model_module": "@jupyter-widgets/controls",
            "_model_module_version": "1.5.0",
            "_model_name": "HTMLModel",
            "_view_count": null,
            "_view_module": "@jupyter-widgets/controls",
            "_view_module_version": "1.5.0",
            "_view_name": "HTMLView",
            "description": "",
            "description_tooltip": null,
            "layout": "IPY_MODEL_25cc3b2b22af45aea7548d54fe82fd7b",
            "placeholder": "​",
            "style": "IPY_MODEL_1d7fae6b83f243d49b47b6d29f183ad3",
            "value": "100%"
          }
        },
        "2379daeb10184e39ba35eeca1990009c": {
          "model_module": "@jupyter-widgets/controls",
          "model_name": "FloatProgressModel",
          "model_module_version": "1.5.0",
          "state": {
            "_dom_classes": [],
            "_model_module": "@jupyter-widgets/controls",
            "_model_module_version": "1.5.0",
            "_model_name": "FloatProgressModel",
            "_view_count": null,
            "_view_module": "@jupyter-widgets/controls",
            "_view_module_version": "1.5.0",
            "_view_name": "ProgressView",
            "bar_style": "success",
            "description": "",
            "description_tooltip": null,
            "layout": "IPY_MODEL_1ffa50bce16b42cf86d57279c00f44ac",
            "max": 23708,
            "min": 0,
            "orientation": "horizontal",
            "style": "IPY_MODEL_5083054ac54347ac81c0f08fff20e269",
            "value": 23708
          }
        },
        "038d9a704d22466a9409ad7ccda34c7b": {
          "model_module": "@jupyter-widgets/controls",
          "model_name": "HTMLModel",
          "model_module_version": "1.5.0",
          "state": {
            "_dom_classes": [],
            "_model_module": "@jupyter-widgets/controls",
            "_model_module_version": "1.5.0",
            "_model_name": "HTMLModel",
            "_view_count": null,
            "_view_module": "@jupyter-widgets/controls",
            "_view_module_version": "1.5.0",
            "_view_name": "HTMLView",
            "description": "",
            "description_tooltip": null,
            "layout": "IPY_MODEL_cbe9f93932c544cf98baf57a5a6f1891",
            "placeholder": "​",
            "style": "IPY_MODEL_dd5b41648b0c48f8ac70c7de3989f248",
            "value": " 23708/23708 [00:00&lt;00:00, 268455.39it/s]"
          }
        },
        "117bfc75331543a89f597ee1780c6808": {
          "model_module": "@jupyter-widgets/base",
          "model_name": "LayoutModel",
          "model_module_version": "1.2.0",
          "state": {
            "_model_module": "@jupyter-widgets/base",
            "_model_module_version": "1.2.0",
            "_model_name": "LayoutModel",
            "_view_count": null,
            "_view_module": "@jupyter-widgets/base",
            "_view_module_version": "1.2.0",
            "_view_name": "LayoutView",
            "align_content": null,
            "align_items": null,
            "align_self": null,
            "border": null,
            "bottom": null,
            "display": null,
            "flex": null,
            "flex_flow": null,
            "grid_area": null,
            "grid_auto_columns": null,
            "grid_auto_flow": null,
            "grid_auto_rows": null,
            "grid_column": null,
            "grid_gap": null,
            "grid_row": null,
            "grid_template_areas": null,
            "grid_template_columns": null,
            "grid_template_rows": null,
            "height": null,
            "justify_content": null,
            "justify_items": null,
            "left": null,
            "margin": null,
            "max_height": null,
            "max_width": null,
            "min_height": null,
            "min_width": null,
            "object_fit": null,
            "object_position": null,
            "order": null,
            "overflow": null,
            "overflow_x": null,
            "overflow_y": null,
            "padding": null,
            "right": null,
            "top": null,
            "visibility": null,
            "width": null
          }
        },
        "25cc3b2b22af45aea7548d54fe82fd7b": {
          "model_module": "@jupyter-widgets/base",
          "model_name": "LayoutModel",
          "model_module_version": "1.2.0",
          "state": {
            "_model_module": "@jupyter-widgets/base",
            "_model_module_version": "1.2.0",
            "_model_name": "LayoutModel",
            "_view_count": null,
            "_view_module": "@jupyter-widgets/base",
            "_view_module_version": "1.2.0",
            "_view_name": "LayoutView",
            "align_content": null,
            "align_items": null,
            "align_self": null,
            "border": null,
            "bottom": null,
            "display": null,
            "flex": null,
            "flex_flow": null,
            "grid_area": null,
            "grid_auto_columns": null,
            "grid_auto_flow": null,
            "grid_auto_rows": null,
            "grid_column": null,
            "grid_gap": null,
            "grid_row": null,
            "grid_template_areas": null,
            "grid_template_columns": null,
            "grid_template_rows": null,
            "height": null,
            "justify_content": null,
            "justify_items": null,
            "left": null,
            "margin": null,
            "max_height": null,
            "max_width": null,
            "min_height": null,
            "min_width": null,
            "object_fit": null,
            "object_position": null,
            "order": null,
            "overflow": null,
            "overflow_x": null,
            "overflow_y": null,
            "padding": null,
            "right": null,
            "top": null,
            "visibility": null,
            "width": null
          }
        },
        "1d7fae6b83f243d49b47b6d29f183ad3": {
          "model_module": "@jupyter-widgets/controls",
          "model_name": "DescriptionStyleModel",
          "model_module_version": "1.5.0",
          "state": {
            "_model_module": "@jupyter-widgets/controls",
            "_model_module_version": "1.5.0",
            "_model_name": "DescriptionStyleModel",
            "_view_count": null,
            "_view_module": "@jupyter-widgets/base",
            "_view_module_version": "1.2.0",
            "_view_name": "StyleView",
            "description_width": ""
          }
        },
        "1ffa50bce16b42cf86d57279c00f44ac": {
          "model_module": "@jupyter-widgets/base",
          "model_name": "LayoutModel",
          "model_module_version": "1.2.0",
          "state": {
            "_model_module": "@jupyter-widgets/base",
            "_model_module_version": "1.2.0",
            "_model_name": "LayoutModel",
            "_view_count": null,
            "_view_module": "@jupyter-widgets/base",
            "_view_module_version": "1.2.0",
            "_view_name": "LayoutView",
            "align_content": null,
            "align_items": null,
            "align_self": null,
            "border": null,
            "bottom": null,
            "display": null,
            "flex": null,
            "flex_flow": null,
            "grid_area": null,
            "grid_auto_columns": null,
            "grid_auto_flow": null,
            "grid_auto_rows": null,
            "grid_column": null,
            "grid_gap": null,
            "grid_row": null,
            "grid_template_areas": null,
            "grid_template_columns": null,
            "grid_template_rows": null,
            "height": null,
            "justify_content": null,
            "justify_items": null,
            "left": null,
            "margin": null,
            "max_height": null,
            "max_width": null,
            "min_height": null,
            "min_width": null,
            "object_fit": null,
            "object_position": null,
            "order": null,
            "overflow": null,
            "overflow_x": null,
            "overflow_y": null,
            "padding": null,
            "right": null,
            "top": null,
            "visibility": null,
            "width": null
          }
        },
        "5083054ac54347ac81c0f08fff20e269": {
          "model_module": "@jupyter-widgets/controls",
          "model_name": "ProgressStyleModel",
          "model_module_version": "1.5.0",
          "state": {
            "_model_module": "@jupyter-widgets/controls",
            "_model_module_version": "1.5.0",
            "_model_name": "ProgressStyleModel",
            "_view_count": null,
            "_view_module": "@jupyter-widgets/base",
            "_view_module_version": "1.2.0",
            "_view_name": "StyleView",
            "bar_color": null,
            "description_width": ""
          }
        },
        "cbe9f93932c544cf98baf57a5a6f1891": {
          "model_module": "@jupyter-widgets/base",
          "model_name": "LayoutModel",
          "model_module_version": "1.2.0",
          "state": {
            "_model_module": "@jupyter-widgets/base",
            "_model_module_version": "1.2.0",
            "_model_name": "LayoutModel",
            "_view_count": null,
            "_view_module": "@jupyter-widgets/base",
            "_view_module_version": "1.2.0",
            "_view_name": "LayoutView",
            "align_content": null,
            "align_items": null,
            "align_self": null,
            "border": null,
            "bottom": null,
            "display": null,
            "flex": null,
            "flex_flow": null,
            "grid_area": null,
            "grid_auto_columns": null,
            "grid_auto_flow": null,
            "grid_auto_rows": null,
            "grid_column": null,
            "grid_gap": null,
            "grid_row": null,
            "grid_template_areas": null,
            "grid_template_columns": null,
            "grid_template_rows": null,
            "height": null,
            "justify_content": null,
            "justify_items": null,
            "left": null,
            "margin": null,
            "max_height": null,
            "max_width": null,
            "min_height": null,
            "min_width": null,
            "object_fit": null,
            "object_position": null,
            "order": null,
            "overflow": null,
            "overflow_x": null,
            "overflow_y": null,
            "padding": null,
            "right": null,
            "top": null,
            "visibility": null,
            "width": null
          }
        },
        "dd5b41648b0c48f8ac70c7de3989f248": {
          "model_module": "@jupyter-widgets/controls",
          "model_name": "DescriptionStyleModel",
          "model_module_version": "1.5.0",
          "state": {
            "_model_module": "@jupyter-widgets/controls",
            "_model_module_version": "1.5.0",
            "_model_name": "DescriptionStyleModel",
            "_view_count": null,
            "_view_module": "@jupyter-widgets/base",
            "_view_module_version": "1.2.0",
            "_view_name": "StyleView",
            "description_width": ""
          }
        },
        "af2e75f9c8404004a0b901667a27a188": {
          "model_module": "@jupyter-widgets/controls",
          "model_name": "HBoxModel",
          "model_module_version": "1.5.0",
          "state": {
            "_dom_classes": [],
            "_model_module": "@jupyter-widgets/controls",
            "_model_module_version": "1.5.0",
            "_model_name": "HBoxModel",
            "_view_count": null,
            "_view_module": "@jupyter-widgets/controls",
            "_view_module_version": "1.5.0",
            "_view_name": "HBoxView",
            "box_style": "",
            "children": [
              "IPY_MODEL_6de9372e618e4c58aec62d7210990b47",
              "IPY_MODEL_088e300f2afd4239a9ceace918a5aa32",
              "IPY_MODEL_3f030879282f41a0a573165bee707294"
            ],
            "layout": "IPY_MODEL_16d13cb08b734a2989523f9c5892953c"
          }
        },
        "6de9372e618e4c58aec62d7210990b47": {
          "model_module": "@jupyter-widgets/controls",
          "model_name": "HTMLModel",
          "model_module_version": "1.5.0",
          "state": {
            "_dom_classes": [],
            "_model_module": "@jupyter-widgets/controls",
            "_model_module_version": "1.5.0",
            "_model_name": "HTMLModel",
            "_view_count": null,
            "_view_module": "@jupyter-widgets/controls",
            "_view_module_version": "1.5.0",
            "_view_name": "HTMLView",
            "description": "",
            "description_tooltip": null,
            "layout": "IPY_MODEL_42b109c20c4946ba8e2acf240aa64003",
            "placeholder": "​",
            "style": "IPY_MODEL_ba9f342972ed40728453b044af613b47",
            "value": "100%"
          }
        },
        "088e300f2afd4239a9ceace918a5aa32": {
          "model_module": "@jupyter-widgets/controls",
          "model_name": "FloatProgressModel",
          "model_module_version": "1.5.0",
          "state": {
            "_dom_classes": [],
            "_model_module": "@jupyter-widgets/controls",
            "_model_module_version": "1.5.0",
            "_model_name": "FloatProgressModel",
            "_view_count": null,
            "_view_module": "@jupyter-widgets/controls",
            "_view_module_version": "1.5.0",
            "_view_name": "ProgressView",
            "bar_style": "success",
            "description": "",
            "description_tooltip": null,
            "layout": "IPY_MODEL_4cb73c677322423f9000181485fc0dd4",
            "max": 23708,
            "min": 0,
            "orientation": "horizontal",
            "style": "IPY_MODEL_5738b0dea9964430a18e5f6d61c94b2d",
            "value": 23708
          }
        },
        "3f030879282f41a0a573165bee707294": {
          "model_module": "@jupyter-widgets/controls",
          "model_name": "HTMLModel",
          "model_module_version": "1.5.0",
          "state": {
            "_dom_classes": [],
            "_model_module": "@jupyter-widgets/controls",
            "_model_module_version": "1.5.0",
            "_model_name": "HTMLModel",
            "_view_count": null,
            "_view_module": "@jupyter-widgets/controls",
            "_view_module_version": "1.5.0",
            "_view_name": "HTMLView",
            "description": "",
            "description_tooltip": null,
            "layout": "IPY_MODEL_29ffc0d3acaa459d93fda76bc4db3e34",
            "placeholder": "​",
            "style": "IPY_MODEL_8b1c9e30de4d4967b3d4e0ab83c655cc",
            "value": " 23708/23708 [00:33&lt;00:00, 739.77it/s]"
          }
        },
        "16d13cb08b734a2989523f9c5892953c": {
          "model_module": "@jupyter-widgets/base",
          "model_name": "LayoutModel",
          "model_module_version": "1.2.0",
          "state": {
            "_model_module": "@jupyter-widgets/base",
            "_model_module_version": "1.2.0",
            "_model_name": "LayoutModel",
            "_view_count": null,
            "_view_module": "@jupyter-widgets/base",
            "_view_module_version": "1.2.0",
            "_view_name": "LayoutView",
            "align_content": null,
            "align_items": null,
            "align_self": null,
            "border": null,
            "bottom": null,
            "display": null,
            "flex": null,
            "flex_flow": null,
            "grid_area": null,
            "grid_auto_columns": null,
            "grid_auto_flow": null,
            "grid_auto_rows": null,
            "grid_column": null,
            "grid_gap": null,
            "grid_row": null,
            "grid_template_areas": null,
            "grid_template_columns": null,
            "grid_template_rows": null,
            "height": null,
            "justify_content": null,
            "justify_items": null,
            "left": null,
            "margin": null,
            "max_height": null,
            "max_width": null,
            "min_height": null,
            "min_width": null,
            "object_fit": null,
            "object_position": null,
            "order": null,
            "overflow": null,
            "overflow_x": null,
            "overflow_y": null,
            "padding": null,
            "right": null,
            "top": null,
            "visibility": null,
            "width": null
          }
        },
        "42b109c20c4946ba8e2acf240aa64003": {
          "model_module": "@jupyter-widgets/base",
          "model_name": "LayoutModel",
          "model_module_version": "1.2.0",
          "state": {
            "_model_module": "@jupyter-widgets/base",
            "_model_module_version": "1.2.0",
            "_model_name": "LayoutModel",
            "_view_count": null,
            "_view_module": "@jupyter-widgets/base",
            "_view_module_version": "1.2.0",
            "_view_name": "LayoutView",
            "align_content": null,
            "align_items": null,
            "align_self": null,
            "border": null,
            "bottom": null,
            "display": null,
            "flex": null,
            "flex_flow": null,
            "grid_area": null,
            "grid_auto_columns": null,
            "grid_auto_flow": null,
            "grid_auto_rows": null,
            "grid_column": null,
            "grid_gap": null,
            "grid_row": null,
            "grid_template_areas": null,
            "grid_template_columns": null,
            "grid_template_rows": null,
            "height": null,
            "justify_content": null,
            "justify_items": null,
            "left": null,
            "margin": null,
            "max_height": null,
            "max_width": null,
            "min_height": null,
            "min_width": null,
            "object_fit": null,
            "object_position": null,
            "order": null,
            "overflow": null,
            "overflow_x": null,
            "overflow_y": null,
            "padding": null,
            "right": null,
            "top": null,
            "visibility": null,
            "width": null
          }
        },
        "ba9f342972ed40728453b044af613b47": {
          "model_module": "@jupyter-widgets/controls",
          "model_name": "DescriptionStyleModel",
          "model_module_version": "1.5.0",
          "state": {
            "_model_module": "@jupyter-widgets/controls",
            "_model_module_version": "1.5.0",
            "_model_name": "DescriptionStyleModel",
            "_view_count": null,
            "_view_module": "@jupyter-widgets/base",
            "_view_module_version": "1.2.0",
            "_view_name": "StyleView",
            "description_width": ""
          }
        },
        "4cb73c677322423f9000181485fc0dd4": {
          "model_module": "@jupyter-widgets/base",
          "model_name": "LayoutModel",
          "model_module_version": "1.2.0",
          "state": {
            "_model_module": "@jupyter-widgets/base",
            "_model_module_version": "1.2.0",
            "_model_name": "LayoutModel",
            "_view_count": null,
            "_view_module": "@jupyter-widgets/base",
            "_view_module_version": "1.2.0",
            "_view_name": "LayoutView",
            "align_content": null,
            "align_items": null,
            "align_self": null,
            "border": null,
            "bottom": null,
            "display": null,
            "flex": null,
            "flex_flow": null,
            "grid_area": null,
            "grid_auto_columns": null,
            "grid_auto_flow": null,
            "grid_auto_rows": null,
            "grid_column": null,
            "grid_gap": null,
            "grid_row": null,
            "grid_template_areas": null,
            "grid_template_columns": null,
            "grid_template_rows": null,
            "height": null,
            "justify_content": null,
            "justify_items": null,
            "left": null,
            "margin": null,
            "max_height": null,
            "max_width": null,
            "min_height": null,
            "min_width": null,
            "object_fit": null,
            "object_position": null,
            "order": null,
            "overflow": null,
            "overflow_x": null,
            "overflow_y": null,
            "padding": null,
            "right": null,
            "top": null,
            "visibility": null,
            "width": null
          }
        },
        "5738b0dea9964430a18e5f6d61c94b2d": {
          "model_module": "@jupyter-widgets/controls",
          "model_name": "ProgressStyleModel",
          "model_module_version": "1.5.0",
          "state": {
            "_model_module": "@jupyter-widgets/controls",
            "_model_module_version": "1.5.0",
            "_model_name": "ProgressStyleModel",
            "_view_count": null,
            "_view_module": "@jupyter-widgets/base",
            "_view_module_version": "1.2.0",
            "_view_name": "StyleView",
            "bar_color": null,
            "description_width": ""
          }
        },
        "29ffc0d3acaa459d93fda76bc4db3e34": {
          "model_module": "@jupyter-widgets/base",
          "model_name": "LayoutModel",
          "model_module_version": "1.2.0",
          "state": {
            "_model_module": "@jupyter-widgets/base",
            "_model_module_version": "1.2.0",
            "_model_name": "LayoutModel",
            "_view_count": null,
            "_view_module": "@jupyter-widgets/base",
            "_view_module_version": "1.2.0",
            "_view_name": "LayoutView",
            "align_content": null,
            "align_items": null,
            "align_self": null,
            "border": null,
            "bottom": null,
            "display": null,
            "flex": null,
            "flex_flow": null,
            "grid_area": null,
            "grid_auto_columns": null,
            "grid_auto_flow": null,
            "grid_auto_rows": null,
            "grid_column": null,
            "grid_gap": null,
            "grid_row": null,
            "grid_template_areas": null,
            "grid_template_columns": null,
            "grid_template_rows": null,
            "height": null,
            "justify_content": null,
            "justify_items": null,
            "left": null,
            "margin": null,
            "max_height": null,
            "max_width": null,
            "min_height": null,
            "min_width": null,
            "object_fit": null,
            "object_position": null,
            "order": null,
            "overflow": null,
            "overflow_x": null,
            "overflow_y": null,
            "padding": null,
            "right": null,
            "top": null,
            "visibility": null,
            "width": null
          }
        },
        "8b1c9e30de4d4967b3d4e0ab83c655cc": {
          "model_module": "@jupyter-widgets/controls",
          "model_name": "DescriptionStyleModel",
          "model_module_version": "1.5.0",
          "state": {
            "_model_module": "@jupyter-widgets/controls",
            "_model_module_version": "1.5.0",
            "_model_name": "DescriptionStyleModel",
            "_view_count": null,
            "_view_module": "@jupyter-widgets/base",
            "_view_module_version": "1.2.0",
            "_view_name": "StyleView",
            "description_width": ""
          }
        }
      }
    },
    "accelerator": "GPU"
  },
  "cells": [
    {
      "cell_type": "markdown",
      "metadata": {
        "id": "view-in-github",
        "colab_type": "text"
      },
      "source": [
        "<a href=\"https://colab.research.google.com/github/VladimirVladetic/Gender-AgePredictor/blob/main/age_and_gender_predictor.ipynb\" target=\"_parent\"><img src=\"https://colab.research.google.com/assets/colab-badge.svg\" alt=\"Open In Colab\"/></a>"
      ]
    },
    {
      "cell_type": "code",
      "source": [
        "\"\"\"\n",
        "## Gender 90%, Age 75%\n",
        "def create_model(input_shape,num_age_classes):\n",
        "    inputs = Input(input_shape)\n",
        "\n",
        "    conv_1 = Conv2D(32, kernel_size=(3,3), activation='relu')(inputs)\n",
        "    batch_1 = BatchNormalization()(conv_1)\n",
        "    maxp_1 = MaxPooling2D(pool_size=(2,2))(batch_1)\n",
        "\n",
        "    conv_2 = Conv2D(64, kernel_size=(3,3), activation='relu')(maxp_1)\n",
        "    batch_2 = BatchNormalization()(conv_2)\n",
        "    maxp_2 = MaxPooling2D(pool_size=(2,2))(batch_2)\n",
        "\n",
        "    conv_3 = Conv2D(128, kernel_size=(3,3), activation='relu')(maxp_2)\n",
        "    batch_3 = BatchNormalization()(conv_3)\n",
        "    maxp_3 = MaxPooling2D(pool_size=(2,2))(batch_3)\n",
        "\n",
        "    conv_4 = Conv2D(256, kernel_size=(3,3), activation='relu')(maxp_3)\n",
        "    batch_4 = BatchNormalization()(conv_4)\n",
        "    maxp_4 = MaxPooling2D(pool_size=(2,2))(batch_4)\n",
        "\n",
        "    conv_5 = Conv2D(512, kernel_size=(3,3), activation='relu')(maxp_4)\n",
        "    batch_5 = BatchNormalization()(conv_5)\n",
        "\n",
        "    flatten = Flatten()(batch_5)\n",
        "\n",
        "    dense_1_1 = Dense(256, activation='relu')(flatten)\n",
        "    dense_2_1 = Dense(256, activation='relu')(flatten)\n",
        "\n",
        "    dropout_1 = Dropout(0.3)(dense_1_1)\n",
        "    dropout_2 = Dropout(0.3)(dense_2_1)\n",
        "\n",
        "    dense_1_2 = Dense(256, activation='relu')(dropout_1)\n",
        "    dense_2_2 = Dense(256, activation='relu')(dropout_2)\n",
        "\n",
        "    output_1 = Dense(1, activation='sigmoid', name=\"gender_out\")(dense_1_2)\n",
        "    output_2 = Dense(num_age_classes, activation='softmax', name=\"age_out\")(dense_2_2)\n",
        "\n",
        "    model = Model(inputs=[inputs], outputs=[output_1, output_2])\n",
        "    return model\n",
        "\"\"\""
      ],
      "metadata": {
        "id": "v2J4TN26SDwc",
        "outputId": "6ce37468-43e7-4d98-9a75-3c2d548fe4d9",
        "colab": {
          "base_uri": "https://localhost:8080/",
          "height": 227
        }
      },
      "execution_count": 3,
      "outputs": [
        {
          "output_type": "execute_result",
          "data": {
            "text/plain": [
              "'\\n## Gender 90%, Age 75%\\ndef create_model(input_shape,num_age_classes):\\n    inputs = Input(input_shape)\\n\\n    conv_1 = Conv2D(32, kernel_size=(3,3), activation=\\'relu\\')(inputs)\\n    batch_1 = BatchNormalization()(conv_1)\\n    maxp_1 = MaxPooling2D(pool_size=(2,2))(batch_1)\\n\\n    conv_2 = Conv2D(64, kernel_size=(3,3), activation=\\'relu\\')(maxp_1)\\n    batch_2 = BatchNormalization()(conv_2)\\n    maxp_2 = MaxPooling2D(pool_size=(2,2))(batch_2)\\n\\n    conv_3 = Conv2D(128, kernel_size=(3,3), activation=\\'relu\\')(maxp_2)\\n    batch_3 = BatchNormalization()(conv_3)\\n    maxp_3 = MaxPooling2D(pool_size=(2,2))(batch_3)\\n\\n    conv_4 = Conv2D(256, kernel_size=(3,3), activation=\\'relu\\')(maxp_3)\\n    batch_4 = BatchNormalization()(conv_4)\\n    maxp_4 = MaxPooling2D(pool_size=(2,2))(batch_4)\\n\\n    conv_5 = Conv2D(512, kernel_size=(3,3), activation=\\'relu\\')(maxp_4)\\n    batch_5 = BatchNormalization()(conv_5)\\n\\n    flatten = Flatten()(batch_5)\\n\\n    dense_1_1 = Dense(256, activation=\\'relu\\')(flatten)\\n    dense_2_1 = Dense(256, activation=\\'relu\\')(flatten)\\n\\n    dropout_1 = Dropout(0.3)(dense_1_1)\\n    dropout_2 = Dropout(0.3)(dense_2_1)\\n\\n    dense_1_2 = Dense(256, activation=\\'relu\\')(dropout_1)\\n    dense_2_2 = Dense(256, activation=\\'relu\\')(dropout_2)\\n\\n    output_1 = Dense(1, activation=\\'sigmoid\\', name=\"gender_out\")(dense_1_2)\\n    output_2 = Dense(num_age_classes, activation=\\'softmax\\', name=\"age_out\")(dense_2_2)\\n\\n    model = Model(inputs=[inputs], outputs=[output_1, output_2])\\n    return model\\n'"
            ],
            "application/vnd.google.colaboratory.intrinsic+json": {
              "type": "string"
            }
          },
          "metadata": {},
          "execution_count": 3
        }
      ]
    },
    {
      "cell_type": "code",
      "source": [
        "\"\"\" OLD MODEL BEST MODEL\n",
        "# Creating a custom model\n",
        "def create_model(input_shape):\n",
        "    inputs = Input(input_shape)\n",
        "    conv_1 = Conv2D(32, kernel_size=(3,3), activation='relu')(inputs)\n",
        "    maxp_1 = MaxPooling2D(pool_size=(2,2))(conv_1)\n",
        "    conv_2 = Conv2D(64, kernel_size=(3,3), activation='relu')(maxp_1)\n",
        "    maxp_2 = MaxPooling2D(pool_size=(2,2))(conv_2)\n",
        "    conv_3 = Conv2D(128, kernel_size=(3,3), activation='relu')(maxp_2)\n",
        "    maxp_3 = MaxPooling2D(pool_size=(2,2))(conv_3)\n",
        "    conv_4 = Conv2D(256, kernel_size=(3,3), activation='relu')(maxp_3)\n",
        "    maxp_4 = MaxPooling2D(pool_size=(2,2))(conv_4)\n",
        "\n",
        "    flatten = Flatten()(maxp_4)\n",
        "\n",
        "    dense_1 = Dense(256, activation='relu')(flatten)\n",
        "    dense_2 = Dense(256, activation='relu')(flatten)\n",
        "\n",
        "    dropout_1 = Dropout(0.3)(dense_1)\n",
        "    dropout_2 = Dropout(0.3)(dense_2)\n",
        "\n",
        "    output_1 = Dense(1, activation='sigmoid', name=\"gender_out\")(dropout_1)\n",
        "    output_2 = Dense(7, activation='softmax', name=\"age_out\")(dropout_2)\n",
        "\n",
        "    model = Model(inputs=[inputs], outputs=[output_1, output_2])\n",
        "    return model\n",
        "\"\"\""
      ],
      "metadata": {
        "id": "8MoSVPwnA4yS",
        "outputId": "07b4135d-6a02-4163-a901-15b0864f8839",
        "colab": {
          "base_uri": "https://localhost:8080/",
          "height": 227
        }
      },
      "execution_count": 4,
      "outputs": [
        {
          "output_type": "execute_result",
          "data": {
            "text/plain": [
              "' OLD MODEL BEST MODEL\\n# Creating a custom model\\ndef create_model(input_shape):\\n    inputs = Input(input_shape)\\n    conv_1 = Conv2D(32, kernel_size=(3,3), activation=\\'relu\\')(inputs)\\n    maxp_1 = MaxPooling2D(pool_size=(2,2))(conv_1)\\n    conv_2 = Conv2D(64, kernel_size=(3,3), activation=\\'relu\\')(maxp_1)\\n    maxp_2 = MaxPooling2D(pool_size=(2,2))(conv_2)\\n    conv_3 = Conv2D(128, kernel_size=(3,3), activation=\\'relu\\')(maxp_2)\\n    maxp_3 = MaxPooling2D(pool_size=(2,2))(conv_3)\\n    conv_4 = Conv2D(256, kernel_size=(3,3), activation=\\'relu\\')(maxp_3)\\n    maxp_4 = MaxPooling2D(pool_size=(2,2))(conv_4)\\n\\n    flatten = Flatten()(maxp_4)\\n\\n    dense_1 = Dense(256, activation=\\'relu\\')(flatten)\\n    dense_2 = Dense(256, activation=\\'relu\\')(flatten)\\n\\n    dropout_1 = Dropout(0.3)(dense_1)\\n    dropout_2 = Dropout(0.3)(dense_2)\\n\\n    output_1 = Dense(1, activation=\\'sigmoid\\', name=\"gender_out\")(dropout_1)\\n    output_2 = Dense(7, activation=\\'softmax\\', name=\"age_out\")(dropout_2)\\n\\n    model = Model(inputs=[inputs], outputs=[output_1, output_2])\\n    return model\\n'"
            ],
            "application/vnd.google.colaboratory.intrinsic+json": {
              "type": "string"
            }
          },
          "metadata": {},
          "execution_count": 4
        }
      ]
    },
    {
      "cell_type": "code",
      "source": [
        "import numpy as np\n",
        "import pandas as pd\n",
        "import os\n",
        "import cv2\n",
        "from tqdm.notebook import tqdm\n",
        "import matplotlib.pyplot as plt\n",
        "import seaborn as sns\n",
        "import warnings\n",
        "warnings.filterwarnings('ignore')\n",
        "import tensorflow as tf\n",
        "from keras.models import Sequential, Model\n",
        "from keras.layers import Dense, Conv2D, Dropout, Flatten, MaxPooling2D, Input, BatchNormalization\n",
        "from PIL import Image\n",
        "from keras.preprocessing.image import load_img, img_to_array\n",
        "import zipfile\n",
        "from keras.utils import to_categorical\n",
        "from tensorflow.keras.regularizers import l1_l2, l1, l2\n",
        "from tensorflow.keras.optimizers import Adam\n",
        "from tensorflow.keras.callbacks import ReduceLROnPlateau, EarlyStopping\n",
        "from tensorflow.keras.models import save_model, load_model\n",
        "import shutil\n",
        "from tensorflow.keras.preprocessing.image import ImageDataGenerator, img_to_array, array_to_img\n",
        "#import mediapipe as mp"
      ],
      "metadata": {
        "id": "rOLyYuywAHfI"
      },
      "execution_count": 5,
      "outputs": []
    },
    {
      "cell_type": "code",
      "execution_count": 2,
      "metadata": {
        "id": "rfNgRRFZ-1zx",
        "colab": {
          "base_uri": "https://localhost:8080/",
          "height": 73
        },
        "outputId": "148d02a8-d55c-4267-91c2-8218faaac0a2"
      },
      "outputs": [
        {
          "output_type": "display_data",
          "data": {
            "text/plain": [
              "<IPython.core.display.HTML object>"
            ],
            "text/html": [
              "\n",
              "     <input type=\"file\" id=\"files-d0a45b32-811e-4034-ba53-4b2bf3e4ad85\" name=\"files[]\" multiple disabled\n",
              "        style=\"border:none\" />\n",
              "     <output id=\"result-d0a45b32-811e-4034-ba53-4b2bf3e4ad85\">\n",
              "      Upload widget is only available when the cell has been executed in the\n",
              "      current browser session. Please rerun this cell to enable.\n",
              "      </output>\n",
              "      <script>// Copyright 2017 Google LLC\n",
              "//\n",
              "// Licensed under the Apache License, Version 2.0 (the \"License\");\n",
              "// you may not use this file except in compliance with the License.\n",
              "// You may obtain a copy of the License at\n",
              "//\n",
              "//      http://www.apache.org/licenses/LICENSE-2.0\n",
              "//\n",
              "// Unless required by applicable law or agreed to in writing, software\n",
              "// distributed under the License is distributed on an \"AS IS\" BASIS,\n",
              "// WITHOUT WARRANTIES OR CONDITIONS OF ANY KIND, either express or implied.\n",
              "// See the License for the specific language governing permissions and\n",
              "// limitations under the License.\n",
              "\n",
              "/**\n",
              " * @fileoverview Helpers for google.colab Python module.\n",
              " */\n",
              "(function(scope) {\n",
              "function span(text, styleAttributes = {}) {\n",
              "  const element = document.createElement('span');\n",
              "  element.textContent = text;\n",
              "  for (const key of Object.keys(styleAttributes)) {\n",
              "    element.style[key] = styleAttributes[key];\n",
              "  }\n",
              "  return element;\n",
              "}\n",
              "\n",
              "// Max number of bytes which will be uploaded at a time.\n",
              "const MAX_PAYLOAD_SIZE = 100 * 1024;\n",
              "\n",
              "function _uploadFiles(inputId, outputId) {\n",
              "  const steps = uploadFilesStep(inputId, outputId);\n",
              "  const outputElement = document.getElementById(outputId);\n",
              "  // Cache steps on the outputElement to make it available for the next call\n",
              "  // to uploadFilesContinue from Python.\n",
              "  outputElement.steps = steps;\n",
              "\n",
              "  return _uploadFilesContinue(outputId);\n",
              "}\n",
              "\n",
              "// This is roughly an async generator (not supported in the browser yet),\n",
              "// where there are multiple asynchronous steps and the Python side is going\n",
              "// to poll for completion of each step.\n",
              "// This uses a Promise to block the python side on completion of each step,\n",
              "// then passes the result of the previous step as the input to the next step.\n",
              "function _uploadFilesContinue(outputId) {\n",
              "  const outputElement = document.getElementById(outputId);\n",
              "  const steps = outputElement.steps;\n",
              "\n",
              "  const next = steps.next(outputElement.lastPromiseValue);\n",
              "  return Promise.resolve(next.value.promise).then((value) => {\n",
              "    // Cache the last promise value to make it available to the next\n",
              "    // step of the generator.\n",
              "    outputElement.lastPromiseValue = value;\n",
              "    return next.value.response;\n",
              "  });\n",
              "}\n",
              "\n",
              "/**\n",
              " * Generator function which is called between each async step of the upload\n",
              " * process.\n",
              " * @param {string} inputId Element ID of the input file picker element.\n",
              " * @param {string} outputId Element ID of the output display.\n",
              " * @return {!Iterable<!Object>} Iterable of next steps.\n",
              " */\n",
              "function* uploadFilesStep(inputId, outputId) {\n",
              "  const inputElement = document.getElementById(inputId);\n",
              "  inputElement.disabled = false;\n",
              "\n",
              "  const outputElement = document.getElementById(outputId);\n",
              "  outputElement.innerHTML = '';\n",
              "\n",
              "  const pickedPromise = new Promise((resolve) => {\n",
              "    inputElement.addEventListener('change', (e) => {\n",
              "      resolve(e.target.files);\n",
              "    });\n",
              "  });\n",
              "\n",
              "  const cancel = document.createElement('button');\n",
              "  inputElement.parentElement.appendChild(cancel);\n",
              "  cancel.textContent = 'Cancel upload';\n",
              "  const cancelPromise = new Promise((resolve) => {\n",
              "    cancel.onclick = () => {\n",
              "      resolve(null);\n",
              "    };\n",
              "  });\n",
              "\n",
              "  // Wait for the user to pick the files.\n",
              "  const files = yield {\n",
              "    promise: Promise.race([pickedPromise, cancelPromise]),\n",
              "    response: {\n",
              "      action: 'starting',\n",
              "    }\n",
              "  };\n",
              "\n",
              "  cancel.remove();\n",
              "\n",
              "  // Disable the input element since further picks are not allowed.\n",
              "  inputElement.disabled = true;\n",
              "\n",
              "  if (!files) {\n",
              "    return {\n",
              "      response: {\n",
              "        action: 'complete',\n",
              "      }\n",
              "    };\n",
              "  }\n",
              "\n",
              "  for (const file of files) {\n",
              "    const li = document.createElement('li');\n",
              "    li.append(span(file.name, {fontWeight: 'bold'}));\n",
              "    li.append(span(\n",
              "        `(${file.type || 'n/a'}) - ${file.size} bytes, ` +\n",
              "        `last modified: ${\n",
              "            file.lastModifiedDate ? file.lastModifiedDate.toLocaleDateString() :\n",
              "                                    'n/a'} - `));\n",
              "    const percent = span('0% done');\n",
              "    li.appendChild(percent);\n",
              "\n",
              "    outputElement.appendChild(li);\n",
              "\n",
              "    const fileDataPromise = new Promise((resolve) => {\n",
              "      const reader = new FileReader();\n",
              "      reader.onload = (e) => {\n",
              "        resolve(e.target.result);\n",
              "      };\n",
              "      reader.readAsArrayBuffer(file);\n",
              "    });\n",
              "    // Wait for the data to be ready.\n",
              "    let fileData = yield {\n",
              "      promise: fileDataPromise,\n",
              "      response: {\n",
              "        action: 'continue',\n",
              "      }\n",
              "    };\n",
              "\n",
              "    // Use a chunked sending to avoid message size limits. See b/62115660.\n",
              "    let position = 0;\n",
              "    do {\n",
              "      const length = Math.min(fileData.byteLength - position, MAX_PAYLOAD_SIZE);\n",
              "      const chunk = new Uint8Array(fileData, position, length);\n",
              "      position += length;\n",
              "\n",
              "      const base64 = btoa(String.fromCharCode.apply(null, chunk));\n",
              "      yield {\n",
              "        response: {\n",
              "          action: 'append',\n",
              "          file: file.name,\n",
              "          data: base64,\n",
              "        },\n",
              "      };\n",
              "\n",
              "      let percentDone = fileData.byteLength === 0 ?\n",
              "          100 :\n",
              "          Math.round((position / fileData.byteLength) * 100);\n",
              "      percent.textContent = `${percentDone}% done`;\n",
              "\n",
              "    } while (position < fileData.byteLength);\n",
              "  }\n",
              "\n",
              "  // All done.\n",
              "  yield {\n",
              "    response: {\n",
              "      action: 'complete',\n",
              "    }\n",
              "  };\n",
              "}\n",
              "\n",
              "scope.google = scope.google || {};\n",
              "scope.google.colab = scope.google.colab || {};\n",
              "scope.google.colab._files = {\n",
              "  _uploadFiles,\n",
              "  _uploadFilesContinue,\n",
              "};\n",
              "})(self);\n",
              "</script> "
            ]
          },
          "metadata": {}
        },
        {
          "output_type": "stream",
          "name": "stdout",
          "text": [
            "Saving kaggle.json to kaggle.json\n"
          ]
        }
      ],
      "source": [
        "from google.colab import files\n",
        "\n",
        "uploaded = files.upload()"
      ]
    },
    {
      "cell_type": "code",
      "source": [
        "source_path = '/content/kaggle.json'\n",
        "destination_path = '/root/.kaggle/kaggle.json'\n",
        "kaggle_dir = '/root/.kaggle/'\n",
        "if not os.path.exists(kaggle_dir):\n",
        "    os.makedirs(kaggle_dir)\n",
        "os.rename(source_path, destination_path)"
      ],
      "metadata": {
        "id": "4pfmaHPxAUm5"
      },
      "execution_count": 6,
      "outputs": []
    },
    {
      "cell_type": "code",
      "source": [
        "!kaggle datasets download -d jangedoo/utkface-new"
      ],
      "metadata": {
        "colab": {
          "base_uri": "https://localhost:8080/"
        },
        "id": "ZxeqY7w4Aex7",
        "outputId": "01162354-0226-4f50-cd8d-16daaa711d9b"
      },
      "execution_count": 7,
      "outputs": [
        {
          "output_type": "stream",
          "name": "stdout",
          "text": [
            "Warning: Your Kaggle API key is readable by other users on this system! To fix this, you can run 'chmod 600 /root/.kaggle/kaggle.json'\n",
            "Downloading utkface-new.zip to /content\n",
            "100% 330M/331M [00:16<00:00, 23.4MB/s]\n",
            "100% 331M/331M [00:16<00:00, 21.3MB/s]\n"
          ]
        }
      ]
    },
    {
      "cell_type": "code",
      "source": [
        "with zipfile.ZipFile('/content/utkface-new.zip', 'r') as zip_ref:\n",
        "  zip_ref.extractall('/content')"
      ],
      "metadata": {
        "id": "Jg-zDlFkAjRJ"
      },
      "execution_count": 8,
      "outputs": []
    },
    {
      "cell_type": "code",
      "source": [
        "folder_to_delete = '/content/sample_data'\n",
        "shutil.rmtree(folder_to_delete)\n",
        "folder_to_delete = '/content/crop_part1'\n",
        "shutil.rmtree(folder_to_delete)\n",
        "folder_to_delete = '/content/utkface_aligned_cropped'\n",
        "shutil.rmtree(folder_to_delete)"
      ],
      "metadata": {
        "id": "5vIUW8ymdeLV"
      },
      "execution_count": 9,
      "outputs": []
    },
    {
      "cell_type": "code",
      "source": [
        "## Function returns paths to images and their associated age and gender labels\n",
        "def get_image_paths_age_gender_labels(image_directory):\n",
        "    image_paths = []\n",
        "    age_labels = []\n",
        "    gender_labels = []\n",
        "    for filename in tqdm(os.listdir(image_directory )):\n",
        "        image_path = os.path.join(image_directory,filename)\n",
        "        temporary_data = filename.split(\"_\")\n",
        "        age = int(temporary_data[0])\n",
        "        gender = int(temporary_data[1])\n",
        "        image_paths.append(image_path)\n",
        "        age_labels.append(age)\n",
        "        gender_labels.append(gender)\n",
        "    return image_paths, age_labels, gender_labels"
      ],
      "metadata": {
        "id": "CI3EIai5Aswm"
      },
      "execution_count": 10,
      "outputs": []
    },
    {
      "cell_type": "code",
      "source": [
        "## OG\n",
        "##age_ranges = [(0, 2), (3, 5), (6, 20), (21, 40), (41, 60), (61, 80), (81, 120)]\n",
        "## Janja age ranges\n",
        "## 0-2 3-9 10-20 21-29 30-45 46-60 61-80 81-120\n",
        "##Adience age ranges\n",
        "##age_ranges = [(0, 3), (4, 6), (7, 13), (14, 23), (24, 36), (37, 48), (49, 69), (60,120)]"
      ],
      "metadata": {
        "id": "21je_zH8UEKb"
      },
      "execution_count": 11,
      "outputs": []
    },
    {
      "cell_type": "code",
      "source": [
        "def map_age_to_category(age):\n",
        "  age_ranges = [(0, 2), (3, 9), (10, 20), (21, 29), (30, 45), (46, 60), (61, 80), (81, 120)]\n",
        "  for category, (min_age, max_age) in enumerate(age_ranges, start=0):\n",
        "          if min_age <= age <= max_age:\n",
        "              return category\n",
        "  return 0"
      ],
      "metadata": {
        "id": "xstXqmrikq9Y"
      },
      "execution_count": 12,
      "outputs": []
    },
    {
      "cell_type": "code",
      "source": [
        "### EDA ###\n",
        "\n",
        "## Function takes the first 16 images of the dataset and displays them\n",
        "def show_examples(df, gender_dictionary, start_image_index):\n",
        "    number_of_images = 16\n",
        "    plt.figure(figsize=(number_of_images,number_of_images))\n",
        "    files = df.iloc[start_image_index:start_image_index + number_of_images]\n",
        "    i = 0\n",
        "    for index, image, age, gender in files.itertuples():\n",
        "        i+=1\n",
        "        plt.subplot(4,4, i)\n",
        "        var_image = load_img(image)\n",
        "        var_image = np.array(var_image)\n",
        "        plt.imshow(var_image)\n",
        "        plt.title(f\"Age: {age} Gender: {gender_dictionary[gender]}\")\n",
        "        plt.axis(\"off\")\n",
        "    plt.show()\n",
        "\n",
        "# Plotting bar graph for gender\n",
        "def plot_gender(df):\n",
        "    plt.figure(figsize=(10, 5))\n",
        "    df['gender'].value_counts().plot(kind='bar', color=['blue', 'pink'])\n",
        "    plt.title('Gender Distribution')\n",
        "    plt.xlabel('Gender')\n",
        "    plt.ylabel('Count')\n",
        "    plt.show()\n",
        "\n",
        "# Plotting age histogram\n",
        "def plot_age(df):\n",
        "    plt.figure(figsize=(15, 5))\n",
        "    df['age'].plot(kind='hist', bins=20, edgecolor='black')\n",
        "    plt.title('Age Distribution')\n",
        "    plt.xlabel('Age')\n",
        "    plt.ylabel('Count')\n",
        "    plt.show()"
      ],
      "metadata": {
        "id": "9Ctu26I1Avm4"
      },
      "execution_count": 13,
      "outputs": []
    },
    {
      "cell_type": "code",
      "source": [
        "# Extracting features from the images\n",
        "def extract_features(images, height, width):\n",
        "    features = []\n",
        "    for image in tqdm(images):\n",
        "        var_img = load_img(image, grayscale = True)\n",
        "        var_img = var_img.resize((height,width), Image.ANTIALIAS)\n",
        "        var_img = np.array(var_img)\n",
        "        ## Normalization of images\n",
        "        var_img = var_img / 255.0\n",
        "        features.append(var_img)\n",
        "    features = np.array(features)\n",
        "    features = features.reshape(len(features), height, width, 1)\n",
        "    ## from float64 to float32\n",
        "    features = np.array(features, dtype=np.float32)\n",
        "    return features"
      ],
      "metadata": {
        "id": "rhqveWvWA2Cz"
      },
      "execution_count": 14,
      "outputs": []
    },
    {
      "cell_type": "code",
      "source": [
        "def display_gender_acc_graph(history):\n",
        "    acc = history.history[\"gender_out_accuracy\"]\n",
        "    val_acc = history.history[\"val_gender_out_accuracy\"]\n",
        "    epochs = range(len(acc))\n",
        "    plt.plot(epochs, acc, 'b', label=\"Training Accuracy\")\n",
        "    plt.plot(epochs, val_acc, 'r', label=\"Validation Accuracy\")\n",
        "    plt.title(\"Gender Accuracy Graph\")\n",
        "    plt.legend()\n",
        "    plt.figure()\n",
        "\n",
        "def display_gender_loss_graph(history):\n",
        "    loss = history.history[\"gender_out_loss\"]\n",
        "    val_loss = history.history[\"val_gender_out_loss\"]\n",
        "    epochs = range(len(loss))\n",
        "    plt.plot(epochs, loss, 'b', label=\"Training Loss\")\n",
        "    plt.plot(epochs, val_loss, 'r', label=\"Validation Loss\")\n",
        "    plt.title(\"Gender Loss Graph\")\n",
        "    plt.legend()\n",
        "    plt.show()\n",
        "\n",
        "def display_age_acc_graph(history):\n",
        "    acc = history.history[\"age_out_accuracy\"]\n",
        "    val_acc = history.history[\"val_age_out_accuracy\"]\n",
        "    epochs = range(len(acc))\n",
        "    plt.plot(epochs, acc, 'b', label=\"Training Accuracy\")\n",
        "    plt.plot(epochs, val_acc, 'r', label=\"Validation Accuracy\")\n",
        "    plt.title(\"Age Accuracy Graph\")\n",
        "    plt.legend()\n",
        "    plt.figure()\n",
        "\n",
        "def display_age_loss_graph(history):\n",
        "    loss = history.history[\"age_out_loss\"]\n",
        "    val_loss = history.history[\"val_age_out_loss\"]\n",
        "    epochs = range(len(loss))\n",
        "    plt.plot(epochs, loss, 'b', label=\"Training Loss\")\n",
        "    plt.plot(epochs, val_loss, 'r', label=\"Validation Loss\")\n",
        "    plt.title(\"Age Loss Graph\")\n",
        "    plt.legend()\n",
        "    plt.show()"
      ],
      "metadata": {
        "id": "JsvJYBVwA7O_"
      },
      "execution_count": 15,
      "outputs": []
    },
    {
      "cell_type": "code",
      "source": [
        "def create_model(input_shape,num_age_classes):\n",
        "    inputs = Input(input_shape)\n",
        "\n",
        "    conv_1 = Conv2D(32, kernel_size=(3,3), activation='relu', padding='same')(inputs)\n",
        "    batch_1 = BatchNormalization()(conv_1)\n",
        "    conv_2 = Conv2D(64, kernel_size=(3,3), activation='relu', padding='same')(batch_1)\n",
        "    batch_2 = BatchNormalization()(conv_2)\n",
        "    conv_3 = Conv2D(128, kernel_size=(3,3), activation='relu', padding='same')(batch_2)\n",
        "    batch_3 = BatchNormalization()(conv_3)\n",
        "\n",
        "    maxpool_1 = MaxPooling2D(pool_size=(2,2))(batch_3)\n",
        "    dropout_1 = Dropout(0.25)(maxpool_1)\n",
        "\n",
        "    conv_4 = Conv2D(128, kernel_size=(3,3), activation='relu', padding='same')(dropout_1)\n",
        "    batch_4 = BatchNormalization()(conv_4)\n",
        "    conv_5 = Conv2D(128, kernel_size=(3,3), activation='relu', padding='same')(batch_4)\n",
        "    batch_5 = BatchNormalization()(conv_5)\n",
        "\n",
        "    maxpool_2 = MaxPooling2D(pool_size=(2,2))(batch_5)\n",
        "    dropout_2 = Dropout(0.25)(maxpool_2)\n",
        "\n",
        "    conv_6 = Conv2D(128, kernel_size=(3,3), activation='relu', padding='same')(dropout_2)\n",
        "    batch_6 = BatchNormalization()(conv_6)\n",
        "    conv_7 = Conv2D(128, kernel_size=(3,3), activation='relu', padding='same')(batch_6)\n",
        "    batch_7 = BatchNormalization()(conv_7)\n",
        "\n",
        "    maxpool_3 = MaxPooling2D(pool_size=(2,2))(batch_7)\n",
        "    dropout_3 = Dropout(0.25)(maxpool_3)\n",
        "\n",
        "    conv_8 = Conv2D(256, kernel_size=(3,3), activation='relu', padding='same')(dropout_3)\n",
        "    batch_8 = BatchNormalization()(conv_8)\n",
        "    conv_9 = Conv2D(256, kernel_size=(3,3), activation='relu', padding='same')(batch_8)\n",
        "    batch_9 = BatchNormalization()(conv_9)\n",
        "\n",
        "    flatten = Flatten()(batch_9)\n",
        "\n",
        "    dense_1_1 = Dense(256, activation='relu')(flatten)\n",
        "    dense_2_1 = Dense(256, activation='relu')(flatten)\n",
        "\n",
        "    dropout_1 = Dropout(0.3)(dense_1_1)\n",
        "    dropout_2 = Dropout(0.3)(dense_2_1)\n",
        "\n",
        "    dense_1_2 = Dense(128, activation='relu')(dropout_1)\n",
        "    dense_2_2 = Dense(128, activation='relu')(dropout_2)\n",
        "\n",
        "    output_1 = Dense(1, activation='sigmoid', name=\"gender_out\")(dense_1_2)\n",
        "    output_2 = Dense(num_age_classes, activation='softmax', name=\"age_out\")(dense_2_2)\n",
        "\n",
        "    model = Model(inputs=[inputs], outputs=[output_1, output_2])\n",
        "    return model\n"
      ],
      "metadata": {
        "id": "SgNCZza26ziy"
      },
      "execution_count": 26,
      "outputs": []
    },
    {
      "cell_type": "code",
      "source": [
        "import cv2\n",
        "import numpy as np\n",
        "\n",
        "def augment_data_for_selected_age_categories(images, age_labels, gender_labels, selected_age_categories, augmentation_factor=1):\n",
        "    augmented_images = []\n",
        "    augmented_age_labels = []\n",
        "    augmented_gender_labels = []\n",
        "\n",
        "    for image, age_label, gender_label in zip(images, age_labels, gender_labels):\n",
        "        # Check if the age label is in the specified age categories\n",
        "        if np.any(np.isin(age_label, selected_age_categories)):\n",
        "            img_array = np.array(image)\n",
        "\n",
        "            # Rotate the image by 3 degrees\n",
        "            angle = 3\n",
        "            rotated_image = cv2.rotate(img_array, cv2.ROTATE_90_CLOCKWISE)\n",
        "\n",
        "            # Flip the image horizontally\n",
        "            flipped_image = cv2.flip(img_array, 1)\n",
        "\n",
        "            # Slightly adjust brightness\n",
        "            brightness_adjusted_image = cv2.convertScaleAbs(img_array, alpha=1.1, beta=10)\n",
        "\n",
        "            # Extend the augmented images list\n",
        "            augmented_images.extend([rotated_image, flipped_image, brightness_adjusted_image])\n",
        "\n",
        "            # Copy age and gender labels for each augmented image\n",
        "            for _ in range(augmentation_factor):\n",
        "                augmented_age_labels.append(age_label)\n",
        "                augmented_gender_labels.append(gender_label)\n",
        "\n",
        "    return np.array(augmented_images), np.array(augmented_age_labels), np.array(augmented_gender_labels)\n"
      ],
      "metadata": {
        "id": "IqArxFfMfCQd"
      },
      "execution_count": 27,
      "outputs": []
    },
    {
      "cell_type": "code",
      "source": [
        "## Set image Directory\n",
        "image_directory = \"/content/UTKFace/\"\n",
        "\n",
        "image_paths, age_labels, gender_labels = get_image_paths_age_gender_labels(image_directory)\n",
        "\n",
        "age_categories = [map_age_to_category(age) for age in age_labels]\n",
        "\n",
        "## Set Dictionary\n",
        "gender_dictionary = {0:\"Male\",1:\"Female\"}\n",
        "\n",
        "## Structure of df: INDEX, PICTURE FILEPATH, AGE LABEL, GENDER LABEL\n",
        "df = pd.DataFrame()\n",
        "df[\"image\"], df[\"age\"], df[\"gender\"] = image_paths, age_categories, gender_labels\n",
        "##print(df)"
      ],
      "metadata": {
        "colab": {
          "base_uri": "https://localhost:8080/",
          "height": 49,
          "referenced_widgets": [
            "23e2f0f2ecec4ff384d276aad70a183a",
            "aa5c76824f194990be40b7cf19426118",
            "2379daeb10184e39ba35eeca1990009c",
            "038d9a704d22466a9409ad7ccda34c7b",
            "117bfc75331543a89f597ee1780c6808",
            "25cc3b2b22af45aea7548d54fe82fd7b",
            "1d7fae6b83f243d49b47b6d29f183ad3",
            "1ffa50bce16b42cf86d57279c00f44ac",
            "5083054ac54347ac81c0f08fff20e269",
            "cbe9f93932c544cf98baf57a5a6f1891",
            "dd5b41648b0c48f8ac70c7de3989f248"
          ]
        },
        "id": "pQ-9EIDdA_12",
        "outputId": "cf07e78c-4a0f-45e1-caee-d54102abaf67"
      },
      "execution_count": 28,
      "outputs": [
        {
          "output_type": "display_data",
          "data": {
            "text/plain": [
              "  0%|          | 0/23708 [00:00<?, ?it/s]"
            ],
            "application/vnd.jupyter.widget-view+json": {
              "version_major": 2,
              "version_minor": 0,
              "model_id": "23e2f0f2ecec4ff384d276aad70a183a"
            }
          },
          "metadata": {}
        }
      ]
    },
    {
      "cell_type": "code",
      "source": [
        "### EDA ###\n",
        "\n",
        "##show_examples(df, gender_dictionary, 500)\n",
        "\n",
        "plot_age(df)\n",
        "\n",
        "plot_gender(df)"
      ],
      "metadata": {
        "id": "PhQzL18fBB5z",
        "outputId": "16743c02-bbba-47e7-f9f4-ac3b5f360658",
        "colab": {
          "base_uri": "https://localhost:8080/",
          "height": 627
        }
      },
      "execution_count": 29,
      "outputs": [
        {
          "output_type": "display_data",
          "data": {
            "text/plain": [
              "<Figure size 1500x500 with 1 Axes>"
            ],
            "image/png": "[encoded data removed]"
          },
          "metadata": {}
        },
        {
          "output_type": "display_data",
          "data": {
            "text/plain": [
              "<Figure size 1000x500 with 1 Axes>"
            ],
            "image/png": "[encoded data removed]"
          },
          "metadata": {}
        }
      ]
    },
    {
      "cell_type": "code",
      "source": [
        "image_height = 128\n",
        "image_width = 128\n",
        "num_age_classes = 8"
      ],
      "metadata": {
        "id": "RpI883kfBIcP"
      },
      "execution_count": 30,
      "outputs": []
    },
    {
      "cell_type": "code",
      "source": [
        "X = extract_features(df[\"image\"],image_height,image_width)\n",
        "\n",
        "y_gender = np.array(df[\"gender\"])\n",
        "y_age = np.array(df[\"age\"])\n",
        "\n",
        "y_age = np.array(list(df[\"age\"].apply(lambda x: to_categorical(x, num_classes=num_age_classes))))\n",
        "\n",
        "y_gender_tensor = tf.convert_to_tensor(y_gender, dtype=tf.float32)\n",
        "y_age_tensor = tf.convert_to_tensor(y_age, dtype=tf.float32)\n",
        "\n",
        "input_shape = (image_height,image_width,1)"
      ],
      "metadata": {
        "colab": {
          "base_uri": "https://localhost:8080/",
          "height": 49,
          "referenced_widgets": [
            "af2e75f9c8404004a0b901667a27a188",
            "6de9372e618e4c58aec62d7210990b47",
            "088e300f2afd4239a9ceace918a5aa32",
            "3f030879282f41a0a573165bee707294",
            "16d13cb08b734a2989523f9c5892953c",
            "42b109c20c4946ba8e2acf240aa64003",
            "ba9f342972ed40728453b044af613b47",
            "4cb73c677322423f9000181485fc0dd4",
            "5738b0dea9964430a18e5f6d61c94b2d",
            "29ffc0d3acaa459d93fda76bc4db3e34",
            "8b1c9e30de4d4967b3d4e0ab83c655cc"
          ]
        },
        "id": "Uz6CTI38BFXE",
        "outputId": "d4986680-f68a-4b9a-b31f-328c28efb7b9"
      },
      "execution_count": 31,
      "outputs": [
        {
          "output_type": "display_data",
          "data": {
            "text/plain": [
              "  0%|          | 0/23708 [00:00<?, ?it/s]"
            ],
            "application/vnd.jupyter.widget-view+json": {
              "version_major": 2,
              "version_minor": 0,
              "model_id": "af2e75f9c8404004a0b901667a27a188"
            }
          },
          "metadata": {}
        }
      ]
    },
    {
      "cell_type": "code",
      "source": [
        "print(len(X))\n",
        "print(len(y_age))"
      ],
      "metadata": {
        "id": "REYw_8vLiqLs",
        "outputId": "ff3d7826-cbda-4696-82d6-70a8288061cf",
        "colab": {
          "base_uri": "https://localhost:8080/"
        }
      },
      "execution_count": 32,
      "outputs": [
        {
          "output_type": "stream",
          "name": "stdout",
          "text": [
            "23708\n",
            "23708\n"
          ]
        }
      ]
    },
    {
      "cell_type": "code",
      "source": [
        "selected_age_categories = [1, 7]\n",
        "X, y_age, y_gender = augment_data_for_selected_age_categories(X, y_age, y_gender, selected_age_categories)"
      ],
      "metadata": {
        "id": "jK1p2ijMfJMa"
      },
      "execution_count": null,
      "outputs": []
    },
    {
      "cell_type": "code",
      "source": [
        "print(len(X))\n",
        "print(len(y_age))"
      ],
      "metadata": {
        "id": "TR3kWHT8iiwT",
        "outputId": "121bde4e-9a03-406d-a8a2-ff1ac342b5f7",
        "colab": {
          "base_uri": "https://localhost:8080/",
          "height": 36
        }
      },
      "execution_count": 24,
      "outputs": [
        {
          "output_type": "execute_result",
          "data": {
            "text/plain": [
              "'print(len(X))\\nprint(len(y_age))'"
            ],
            "application/vnd.google.colaboratory.intrinsic+json": {
              "type": "string"
            }
          },
          "metadata": {},
          "execution_count": 24
        }
      ]
    },
    {
      "cell_type": "code",
      "source": [
        "opt = Adam(learning_rate=0.001)\n",
        "\n",
        "model = create_model(input_shape, num_age_classes)\n",
        "\n",
        "model.compile(loss=[\"binary_crossentropy\", \"categorical_crossentropy\"], optimizer = opt, metrics=[\"accuracy\"])\n",
        "\n",
        "early_stopping = EarlyStopping(monitor='val_loss', patience=10, restore_best_weights=True)\n",
        "\n",
        "lr_scheduler = ReduceLROnPlateau(factor=0.5, patience=5)\n",
        "\n",
        "history = model.fit(x=X, y=[y_gender_tensor, y_age_tensor], batch_size=32, epochs=50, validation_split=0.2, callbacks=[lr_scheduler, early_stopping])"
      ],
      "metadata": {
        "id": "Rwz0ORLQBOHO",
        "outputId": "edf7cb8c-27d5-45f5-e2e8-5f81a1c6bae6",
        "colab": {
          "base_uri": "https://localhost:8080/",
          "height": 792
        }
      },
      "execution_count": 25,
      "outputs": [
        {
          "output_type": "stream",
          "name": "stdout",
          "text": [
            "Epoch 1/50\n",
            "593/593 [==============================] - 179s 269ms/step - loss: 2.3829 - gender_out_loss: 0.5664 - age_out_loss: 1.8165 - gender_out_accuracy: 0.7417 - age_out_accuracy: 0.3123 - val_loss: 2.0884 - val_gender_out_loss: 0.3895 - val_age_out_loss: 1.6990 - val_gender_out_accuracy: 0.8267 - val_age_out_accuracy: 0.3321 - lr: 0.0010\n",
            "Epoch 2/50\n",
            "593/593 [==============================] - 154s 259ms/step - loss: 2.0051 - gender_out_loss: 0.3744 - age_out_loss: 1.6307 - gender_out_accuracy: 0.8252 - age_out_accuracy: 0.3624 - val_loss: 1.7928 - val_gender_out_loss: 0.3240 - val_age_out_loss: 1.4689 - val_gender_out_accuracy: 0.8570 - val_age_out_accuracy: 0.4348 - lr: 0.0010\n",
            "Epoch 3/50\n",
            "593/593 [==============================] - 154s 260ms/step - loss: 1.8395 - gender_out_loss: 0.3243 - age_out_loss: 1.5152 - gender_out_accuracy: 0.8548 - age_out_accuracy: 0.3997 - val_loss: 1.5759 - val_gender_out_loss: 0.2743 - val_age_out_loss: 1.3016 - val_gender_out_accuracy: 0.8758 - val_age_out_accuracy: 0.4935 - lr: 0.0010\n",
            "Epoch 4/50\n",
            "593/593 [==============================] - 157s 265ms/step - loss: 1.7022 - gender_out_loss: 0.2843 - age_out_loss: 1.4179 - gender_out_accuracy: 0.8747 - age_out_accuracy: 0.4340 - val_loss: 1.8656 - val_gender_out_loss: 0.3373 - val_age_out_loss: 1.5282 - val_gender_out_accuracy: 0.8469 - val_age_out_accuracy: 0.3874 - lr: 0.0010\n",
            "Epoch 5/50\n",
            "593/593 [==============================] - 157s 265ms/step - loss: 1.5874 - gender_out_loss: 0.2577 - age_out_loss: 1.3298 - gender_out_accuracy: 0.8845 - age_out_accuracy: 0.4573 - val_loss: 1.5762 - val_gender_out_loss: 0.2737 - val_age_out_loss: 1.3025 - val_gender_out_accuracy: 0.8806 - val_age_out_accuracy: 0.4673 - lr: 0.0010\n",
            "Epoch 6/50\n",
            "593/593 [==============================] - 154s 260ms/step - loss: 1.4802 - gender_out_loss: 0.2274 - age_out_loss: 1.2528 - gender_out_accuracy: 0.8992 - age_out_accuracy: 0.4775 - val_loss: 1.4381 - val_gender_out_loss: 0.2636 - val_age_out_loss: 1.1745 - val_gender_out_accuracy: 0.8887 - val_age_out_accuracy: 0.5162 - lr: 0.0010\n",
            "Epoch 7/50\n",
            "593/593 [==============================] - 154s 260ms/step - loss: 1.3723 - gender_out_loss: 0.2134 - age_out_loss: 1.1589 - gender_out_accuracy: 0.9064 - age_out_accuracy: 0.5200 - val_loss: 1.3291 - val_gender_out_loss: 0.2684 - val_age_out_loss: 1.0607 - val_gender_out_accuracy: 0.8884 - val_age_out_accuracy: 0.5553 - lr: 0.0010\n",
            "Epoch 8/50\n",
            "593/593 [==============================] - 154s 260ms/step - loss: 1.2760 - gender_out_loss: 0.1903 - age_out_loss: 1.0857 - gender_out_accuracy: 0.9160 - age_out_accuracy: 0.5515 - val_loss: 1.6022 - val_gender_out_loss: 0.2677 - val_age_out_loss: 1.3345 - val_gender_out_accuracy: 0.8825 - val_age_out_accuracy: 0.4551 - lr: 0.0010\n",
            "Epoch 9/50\n",
            "593/593 [==============================] - 154s 260ms/step - loss: 1.1769 - gender_out_loss: 0.1653 - age_out_loss: 1.0116 - gender_out_accuracy: 0.9295 - age_out_accuracy: 0.5815 - val_loss: 1.3199 - val_gender_out_loss: 0.2647 - val_age_out_loss: 1.0553 - val_gender_out_accuracy: 0.8906 - val_age_out_accuracy: 0.5371 - lr: 0.0010\n",
            "Epoch 10/50\n",
            "146/593 [======>.......................] - ETA: 1:51 - loss: 1.0842 - gender_out_loss: 0.1345 - age_out_loss: 0.9497 - gender_out_accuracy: 0.9416 - age_out_accuracy: 0.6077"
          ]
        },
        {
          "output_type": "error",
          "ename": "KeyboardInterrupt",
          "evalue": "",
          "traceback": [
            "\u001b[0;31m---------------------------------------------------------------------------\u001b[0m",
            "\u001b[0;31mKeyboardInterrupt\u001b[0m                         Traceback (most recent call last)",
            "\u001b[0;32m<ipython-input-25-12900500b3ea>\u001b[0m in \u001b[0;36m<cell line: 9>\u001b[0;34m()\u001b[0m\n\u001b[1;32m      7\u001b[0m \u001b[0mlr_scheduler\u001b[0m \u001b[0;34m=\u001b[0m \u001b[0mReduceLROnPlateau\u001b[0m\u001b[0;34m(\u001b[0m\u001b[0mfactor\u001b[0m\u001b[0;34m=\u001b[0m\u001b[0;36m0.5\u001b[0m\u001b[0;34m,\u001b[0m \u001b[0mpatience\u001b[0m\u001b[0;34m=\u001b[0m\u001b[0;36m5\u001b[0m\u001b[0;34m)\u001b[0m\u001b[0;34m\u001b[0m\u001b[0;34m\u001b[0m\u001b[0m\n\u001b[1;32m      8\u001b[0m \u001b[0;34m\u001b[0m\u001b[0m\n\u001b[0;32m----> 9\u001b[0;31m \u001b[0mhistory\u001b[0m \u001b[0;34m=\u001b[0m \u001b[0mmodel\u001b[0m\u001b[0;34m.\u001b[0m\u001b[0mfit\u001b[0m\u001b[0;34m(\u001b[0m\u001b[0mx\u001b[0m\u001b[0;34m=\u001b[0m\u001b[0mX\u001b[0m\u001b[0;34m,\u001b[0m \u001b[0my\u001b[0m\u001b[0;34m=\u001b[0m\u001b[0;34m[\u001b[0m\u001b[0my_gender_tensor\u001b[0m\u001b[0;34m,\u001b[0m \u001b[0my_age_tensor\u001b[0m\u001b[0;34m]\u001b[0m\u001b[0;34m,\u001b[0m \u001b[0mbatch_size\u001b[0m\u001b[0;34m=\u001b[0m\u001b[0;36m32\u001b[0m\u001b[0;34m,\u001b[0m \u001b[0mepochs\u001b[0m\u001b[0;34m=\u001b[0m\u001b[0;36m50\u001b[0m\u001b[0;34m,\u001b[0m \u001b[0mvalidation_split\u001b[0m\u001b[0;34m=\u001b[0m\u001b[0;36m0.2\u001b[0m\u001b[0;34m,\u001b[0m \u001b[0mcallbacks\u001b[0m\u001b[0;34m=\u001b[0m\u001b[0;34m[\u001b[0m\u001b[0mlr_scheduler\u001b[0m\u001b[0;34m]\u001b[0m\u001b[0;34m)\u001b[0m\u001b[0;34m\u001b[0m\u001b[0;34m\u001b[0m\u001b[0m\n\u001b[0m",
            "\u001b[0;32m/usr/local/lib/python3.10/dist-packages/keras/src/utils/traceback_utils.py\u001b[0m in \u001b[0;36merror_handler\u001b[0;34m(*args, **kwargs)\u001b[0m\n\u001b[1;32m     63\u001b[0m         \u001b[0mfiltered_tb\u001b[0m \u001b[0;34m=\u001b[0m \u001b[0;32mNone\u001b[0m\u001b[0;34m\u001b[0m\u001b[0;34m\u001b[0m\u001b[0m\n\u001b[1;32m     64\u001b[0m         \u001b[0;32mtry\u001b[0m\u001b[0;34m:\u001b[0m\u001b[0;34m\u001b[0m\u001b[0;34m\u001b[0m\u001b[0m\n\u001b[0;32m---> 65\u001b[0;31m             \u001b[0;32mreturn\u001b[0m \u001b[0mfn\u001b[0m\u001b[0;34m(\u001b[0m\u001b[0;34m*\u001b[0m\u001b[0margs\u001b[0m\u001b[0;34m,\u001b[0m \u001b[0;34m**\u001b[0m\u001b[0mkwargs\u001b[0m\u001b[0;34m)\u001b[0m\u001b[0;34m\u001b[0m\u001b[0;34m\u001b[0m\u001b[0m\n\u001b[0m\u001b[1;32m     66\u001b[0m         \u001b[0;32mexcept\u001b[0m \u001b[0mException\u001b[0m \u001b[0;32mas\u001b[0m \u001b[0me\u001b[0m\u001b[0;34m:\u001b[0m\u001b[0;34m\u001b[0m\u001b[0;34m\u001b[0m\u001b[0m\n\u001b[1;32m     67\u001b[0m             \u001b[0mfiltered_tb\u001b[0m \u001b[0;34m=\u001b[0m \u001b[0m_process_traceback_frames\u001b[0m\u001b[0;34m(\u001b[0m\u001b[0me\u001b[0m\u001b[0;34m.\u001b[0m\u001b[0m__traceback__\u001b[0m\u001b[0;34m)\u001b[0m\u001b[0;34m\u001b[0m\u001b[0;34m\u001b[0m\u001b[0m\n",
            "\u001b[0;32m/usr/local/lib/python3.10/dist-packages/keras/src/engine/training.py\u001b[0m in \u001b[0;36mfit\u001b[0;34m(self, x, y, batch_size, epochs, verbose, callbacks, validation_split, validation_data, shuffle, class_weight, sample_weight, initial_epoch, steps_per_epoch, validation_steps, validation_batch_size, validation_freq, max_queue_size, workers, use_multiprocessing)\u001b[0m\n\u001b[1;32m   1811\u001b[0m                             \u001b[0mlogs\u001b[0m \u001b[0;34m=\u001b[0m \u001b[0mtmp_logs\u001b[0m\u001b[0;34m\u001b[0m\u001b[0;34m\u001b[0m\u001b[0m\n\u001b[1;32m   1812\u001b[0m                             \u001b[0mend_step\u001b[0m \u001b[0;34m=\u001b[0m \u001b[0mstep\u001b[0m \u001b[0;34m+\u001b[0m \u001b[0mdata_handler\u001b[0m\u001b[0;34m.\u001b[0m\u001b[0mstep_increment\u001b[0m\u001b[0;34m\u001b[0m\u001b[0;34m\u001b[0m\u001b[0m\n\u001b[0;32m-> 1813\u001b[0;31m                             \u001b[0mcallbacks\u001b[0m\u001b[0;34m.\u001b[0m\u001b[0mon_train_batch_end\u001b[0m\u001b[0;34m(\u001b[0m\u001b[0mend_step\u001b[0m\u001b[0;34m,\u001b[0m \u001b[0mlogs\u001b[0m\u001b[0;34m)\u001b[0m\u001b[0;34m\u001b[0m\u001b[0;34m\u001b[0m\u001b[0m\n\u001b[0m\u001b[1;32m   1814\u001b[0m                             \u001b[0;32mif\u001b[0m \u001b[0mself\u001b[0m\u001b[0;34m.\u001b[0m\u001b[0mstop_training\u001b[0m\u001b[0;34m:\u001b[0m\u001b[0;34m\u001b[0m\u001b[0;34m\u001b[0m\u001b[0m\n\u001b[1;32m   1815\u001b[0m                                 \u001b[0;32mbreak\u001b[0m\u001b[0;34m\u001b[0m\u001b[0;34m\u001b[0m\u001b[0m\n",
            "\u001b[0;32m/usr/local/lib/python3.10/dist-packages/keras/src/callbacks.py\u001b[0m in \u001b[0;36mon_train_batch_end\u001b[0;34m(self, batch, logs)\u001b[0m\n\u001b[1;32m    473\u001b[0m         \"\"\"\n\u001b[1;32m    474\u001b[0m         \u001b[0;32mif\u001b[0m \u001b[0mself\u001b[0m\u001b[0;34m.\u001b[0m\u001b[0m_should_call_train_batch_hooks\u001b[0m\u001b[0;34m:\u001b[0m\u001b[0;34m\u001b[0m\u001b[0;34m\u001b[0m\u001b[0m\n\u001b[0;32m--> 475\u001b[0;31m             \u001b[0mself\u001b[0m\u001b[0;34m.\u001b[0m\u001b[0m_call_batch_hook\u001b[0m\u001b[0;34m(\u001b[0m\u001b[0mModeKeys\u001b[0m\u001b[0;34m.\u001b[0m\u001b[0mTRAIN\u001b[0m\u001b[0;34m,\u001b[0m \u001b[0;34m\"end\"\u001b[0m\u001b[0;34m,\u001b[0m \u001b[0mbatch\u001b[0m\u001b[0;34m,\u001b[0m \u001b[0mlogs\u001b[0m\u001b[0;34m=\u001b[0m\u001b[0mlogs\u001b[0m\u001b[0;34m)\u001b[0m\u001b[0;34m\u001b[0m\u001b[0;34m\u001b[0m\u001b[0m\n\u001b[0m\u001b[1;32m    476\u001b[0m \u001b[0;34m\u001b[0m\u001b[0m\n\u001b[1;32m    477\u001b[0m     \u001b[0;32mdef\u001b[0m \u001b[0mon_test_batch_begin\u001b[0m\u001b[0;34m(\u001b[0m\u001b[0mself\u001b[0m\u001b[0;34m,\u001b[0m \u001b[0mbatch\u001b[0m\u001b[0;34m,\u001b[0m \u001b[0mlogs\u001b[0m\u001b[0;34m=\u001b[0m\u001b[0;32mNone\u001b[0m\u001b[0;34m)\u001b[0m\u001b[0;34m:\u001b[0m\u001b[0;34m\u001b[0m\u001b[0;34m\u001b[0m\u001b[0m\n",
            "\u001b[0;32m/usr/local/lib/python3.10/dist-packages/keras/src/callbacks.py\u001b[0m in \u001b[0;36m_call_batch_hook\u001b[0;34m(self, mode, hook, batch, logs)\u001b[0m\n\u001b[1;32m    320\u001b[0m             \u001b[0mself\u001b[0m\u001b[0;34m.\u001b[0m\u001b[0m_call_batch_begin_hook\u001b[0m\u001b[0;34m(\u001b[0m\u001b[0mmode\u001b[0m\u001b[0;34m,\u001b[0m \u001b[0mbatch\u001b[0m\u001b[0;34m,\u001b[0m \u001b[0mlogs\u001b[0m\u001b[0;34m)\u001b[0m\u001b[0;34m\u001b[0m\u001b[0;34m\u001b[0m\u001b[0m\n\u001b[1;32m    321\u001b[0m         \u001b[0;32melif\u001b[0m \u001b[0mhook\u001b[0m \u001b[0;34m==\u001b[0m \u001b[0;34m\"end\"\u001b[0m\u001b[0;34m:\u001b[0m\u001b[0;34m\u001b[0m\u001b[0;34m\u001b[0m\u001b[0m\n\u001b[0;32m--> 322\u001b[0;31m             \u001b[0mself\u001b[0m\u001b[0;34m.\u001b[0m\u001b[0m_call_batch_end_hook\u001b[0m\u001b[0;34m(\u001b[0m\u001b[0mmode\u001b[0m\u001b[0;34m,\u001b[0m \u001b[0mbatch\u001b[0m\u001b[0;34m,\u001b[0m \u001b[0mlogs\u001b[0m\u001b[0;34m)\u001b[0m\u001b[0;34m\u001b[0m\u001b[0;34m\u001b[0m\u001b[0m\n\u001b[0m\u001b[1;32m    323\u001b[0m         \u001b[0;32melse\u001b[0m\u001b[0;34m:\u001b[0m\u001b[0;34m\u001b[0m\u001b[0;34m\u001b[0m\u001b[0m\n\u001b[1;32m    324\u001b[0m             raise ValueError(\n",
            "\u001b[0;32m/usr/local/lib/python3.10/dist-packages/keras/src/callbacks.py\u001b[0m in \u001b[0;36m_call_batch_end_hook\u001b[0;34m(self, mode, batch, logs)\u001b[0m\n\u001b[1;32m    343\u001b[0m             \u001b[0mself\u001b[0m\u001b[0;34m.\u001b[0m\u001b[0m_batch_times\u001b[0m\u001b[0;34m.\u001b[0m\u001b[0mappend\u001b[0m\u001b[0;34m(\u001b[0m\u001b[0mbatch_time\u001b[0m\u001b[0;34m)\u001b[0m\u001b[0;34m\u001b[0m\u001b[0;34m\u001b[0m\u001b[0m\n\u001b[1;32m    344\u001b[0m \u001b[0;34m\u001b[0m\u001b[0m\n\u001b[0;32m--> 345\u001b[0;31m         \u001b[0mself\u001b[0m\u001b[0;34m.\u001b[0m\u001b[0m_call_batch_hook_helper\u001b[0m\u001b[0;34m(\u001b[0m\u001b[0mhook_name\u001b[0m\u001b[0;34m,\u001b[0m \u001b[0mbatch\u001b[0m\u001b[0;34m,\u001b[0m \u001b[0mlogs\u001b[0m\u001b[0;34m)\u001b[0m\u001b[0;34m\u001b[0m\u001b[0;34m\u001b[0m\u001b[0m\n\u001b[0m\u001b[1;32m    346\u001b[0m \u001b[0;34m\u001b[0m\u001b[0m\n\u001b[1;32m    347\u001b[0m         \u001b[0;32mif\u001b[0m \u001b[0mlen\u001b[0m\u001b[0;34m(\u001b[0m\u001b[0mself\u001b[0m\u001b[0;34m.\u001b[0m\u001b[0m_batch_times\u001b[0m\u001b[0;34m)\u001b[0m \u001b[0;34m>=\u001b[0m \u001b[0mself\u001b[0m\u001b[0;34m.\u001b[0m\u001b[0m_num_batches_for_timing_check\u001b[0m\u001b[0;34m:\u001b[0m\u001b[0;34m\u001b[0m\u001b[0;34m\u001b[0m\u001b[0m\n",
            "\u001b[0;32m/usr/local/lib/python3.10/dist-packages/keras/src/callbacks.py\u001b[0m in \u001b[0;36m_call_batch_hook_helper\u001b[0;34m(self, hook_name, batch, logs)\u001b[0m\n\u001b[1;32m    391\u001b[0m         \u001b[0;32mfor\u001b[0m \u001b[0mcallback\u001b[0m \u001b[0;32min\u001b[0m \u001b[0mself\u001b[0m\u001b[0;34m.\u001b[0m\u001b[0mcallbacks\u001b[0m\u001b[0;34m:\u001b[0m\u001b[0;34m\u001b[0m\u001b[0;34m\u001b[0m\u001b[0m\n\u001b[1;32m    392\u001b[0m             \u001b[0mhook\u001b[0m \u001b[0;34m=\u001b[0m \u001b[0mgetattr\u001b[0m\u001b[0;34m(\u001b[0m\u001b[0mcallback\u001b[0m\u001b[0;34m,\u001b[0m \u001b[0mhook_name\u001b[0m\u001b[0;34m)\u001b[0m\u001b[0;34m\u001b[0m\u001b[0;34m\u001b[0m\u001b[0m\n\u001b[0;32m--> 393\u001b[0;31m             \u001b[0mhook\u001b[0m\u001b[0;34m(\u001b[0m\u001b[0mbatch\u001b[0m\u001b[0;34m,\u001b[0m \u001b[0mlogs\u001b[0m\u001b[0;34m)\u001b[0m\u001b[0;34m\u001b[0m\u001b[0;34m\u001b[0m\u001b[0m\n\u001b[0m\u001b[1;32m    394\u001b[0m \u001b[0;34m\u001b[0m\u001b[0m\n\u001b[1;32m    395\u001b[0m         \u001b[0;32mif\u001b[0m \u001b[0mself\u001b[0m\u001b[0;34m.\u001b[0m\u001b[0m_check_timing\u001b[0m\u001b[0;34m:\u001b[0m\u001b[0;34m\u001b[0m\u001b[0;34m\u001b[0m\u001b[0m\n",
            "\u001b[0;32m/usr/local/lib/python3.10/dist-packages/keras/src/callbacks.py\u001b[0m in \u001b[0;36mon_train_batch_end\u001b[0;34m(self, batch, logs)\u001b[0m\n\u001b[1;32m   1091\u001b[0m \u001b[0;34m\u001b[0m\u001b[0m\n\u001b[1;32m   1092\u001b[0m     \u001b[0;32mdef\u001b[0m \u001b[0mon_train_batch_end\u001b[0m\u001b[0;34m(\u001b[0m\u001b[0mself\u001b[0m\u001b[0;34m,\u001b[0m \u001b[0mbatch\u001b[0m\u001b[0;34m,\u001b[0m \u001b[0mlogs\u001b[0m\u001b[0;34m=\u001b[0m\u001b[0;32mNone\u001b[0m\u001b[0;34m)\u001b[0m\u001b[0;34m:\u001b[0m\u001b[0;34m\u001b[0m\u001b[0;34m\u001b[0m\u001b[0m\n\u001b[0;32m-> 1093\u001b[0;31m         \u001b[0mself\u001b[0m\u001b[0;34m.\u001b[0m\u001b[0m_batch_update_progbar\u001b[0m\u001b[0;34m(\u001b[0m\u001b[0mbatch\u001b[0m\u001b[0;34m,\u001b[0m \u001b[0mlogs\u001b[0m\u001b[0;34m)\u001b[0m\u001b[0;34m\u001b[0m\u001b[0;34m\u001b[0m\u001b[0m\n\u001b[0m\u001b[1;32m   1094\u001b[0m \u001b[0;34m\u001b[0m\u001b[0m\n\u001b[1;32m   1095\u001b[0m     \u001b[0;32mdef\u001b[0m \u001b[0mon_test_batch_end\u001b[0m\u001b[0;34m(\u001b[0m\u001b[0mself\u001b[0m\u001b[0;34m,\u001b[0m \u001b[0mbatch\u001b[0m\u001b[0;34m,\u001b[0m \u001b[0mlogs\u001b[0m\u001b[0;34m=\u001b[0m\u001b[0;32mNone\u001b[0m\u001b[0;34m)\u001b[0m\u001b[0;34m:\u001b[0m\u001b[0;34m\u001b[0m\u001b[0;34m\u001b[0m\u001b[0m\n",
            "\u001b[0;32m/usr/local/lib/python3.10/dist-packages/keras/src/callbacks.py\u001b[0m in \u001b[0;36m_batch_update_progbar\u001b[0;34m(self, batch, logs)\u001b[0m\n\u001b[1;32m   1167\u001b[0m         \u001b[0;32mif\u001b[0m \u001b[0mself\u001b[0m\u001b[0;34m.\u001b[0m\u001b[0mverbose\u001b[0m \u001b[0;34m==\u001b[0m \u001b[0;36m1\u001b[0m\u001b[0;34m:\u001b[0m\u001b[0;34m\u001b[0m\u001b[0;34m\u001b[0m\u001b[0m\n\u001b[1;32m   1168\u001b[0m             \u001b[0;31m# Only block async when verbose = 1.\u001b[0m\u001b[0;34m\u001b[0m\u001b[0;34m\u001b[0m\u001b[0m\n\u001b[0;32m-> 1169\u001b[0;31m             \u001b[0mlogs\u001b[0m \u001b[0;34m=\u001b[0m \u001b[0mtf_utils\u001b[0m\u001b[0;34m.\u001b[0m\u001b[0msync_to_numpy_or_python_type\u001b[0m\u001b[0;34m(\u001b[0m\u001b[0mlogs\u001b[0m\u001b[0;34m)\u001b[0m\u001b[0;34m\u001b[0m\u001b[0;34m\u001b[0m\u001b[0m\n\u001b[0m\u001b[1;32m   1170\u001b[0m             \u001b[0mself\u001b[0m\u001b[0;34m.\u001b[0m\u001b[0mprogbar\u001b[0m\u001b[0;34m.\u001b[0m\u001b[0mupdate\u001b[0m\u001b[0;34m(\u001b[0m\u001b[0mself\u001b[0m\u001b[0;34m.\u001b[0m\u001b[0mseen\u001b[0m\u001b[0;34m,\u001b[0m \u001b[0mlist\u001b[0m\u001b[0;34m(\u001b[0m\u001b[0mlogs\u001b[0m\u001b[0;34m.\u001b[0m\u001b[0mitems\u001b[0m\u001b[0;34m(\u001b[0m\u001b[0;34m)\u001b[0m\u001b[0;34m)\u001b[0m\u001b[0;34m,\u001b[0m \u001b[0mfinalize\u001b[0m\u001b[0;34m=\u001b[0m\u001b[0;32mFalse\u001b[0m\u001b[0;34m)\u001b[0m\u001b[0;34m\u001b[0m\u001b[0;34m\u001b[0m\u001b[0m\n\u001b[1;32m   1171\u001b[0m \u001b[0;34m\u001b[0m\u001b[0m\n",
            "\u001b[0;32m/usr/local/lib/python3.10/dist-packages/keras/src/utils/tf_utils.py\u001b[0m in \u001b[0;36msync_to_numpy_or_python_type\u001b[0;34m(tensors)\u001b[0m\n\u001b[1;32m    692\u001b[0m         \u001b[0;32mreturn\u001b[0m \u001b[0mt\u001b[0m\u001b[0;34m.\u001b[0m\u001b[0mitem\u001b[0m\u001b[0;34m(\u001b[0m\u001b[0;34m)\u001b[0m \u001b[0;32mif\u001b[0m \u001b[0mnp\u001b[0m\u001b[0;34m.\u001b[0m\u001b[0mndim\u001b[0m\u001b[0;34m(\u001b[0m\u001b[0mt\u001b[0m\u001b[0;34m)\u001b[0m \u001b[0;34m==\u001b[0m \u001b[0;36m0\u001b[0m \u001b[0;32melse\u001b[0m \u001b[0mt\u001b[0m\u001b[0;34m\u001b[0m\u001b[0;34m\u001b[0m\u001b[0m\n\u001b[1;32m    693\u001b[0m \u001b[0;34m\u001b[0m\u001b[0m\n\u001b[0;32m--> 694\u001b[0;31m     \u001b[0;32mreturn\u001b[0m \u001b[0mtf\u001b[0m\u001b[0;34m.\u001b[0m\u001b[0mnest\u001b[0m\u001b[0;34m.\u001b[0m\u001b[0mmap_structure\u001b[0m\u001b[0;34m(\u001b[0m\u001b[0m_to_single_numpy_or_python_type\u001b[0m\u001b[0;34m,\u001b[0m \u001b[0mtensors\u001b[0m\u001b[0;34m)\u001b[0m\u001b[0;34m\u001b[0m\u001b[0;34m\u001b[0m\u001b[0m\n\u001b[0m\u001b[1;32m    695\u001b[0m \u001b[0;34m\u001b[0m\u001b[0m\n\u001b[1;32m    696\u001b[0m \u001b[0;34m\u001b[0m\u001b[0m\n",
            "\u001b[0;32m/usr/local/lib/python3.10/dist-packages/tensorflow/python/util/nest.py\u001b[0m in \u001b[0;36mmap_structure\u001b[0;34m(func, *structure, **kwargs)\u001b[0m\n\u001b[1;32m    629\u001b[0m     \u001b[0mValueError\u001b[0m\u001b[0;34m:\u001b[0m \u001b[0mIf\u001b[0m \u001b[0mwrong\u001b[0m \u001b[0mkeyword\u001b[0m \u001b[0marguments\u001b[0m \u001b[0mare\u001b[0m \u001b[0mprovided\u001b[0m\u001b[0;34m.\u001b[0m\u001b[0;34m\u001b[0m\u001b[0;34m\u001b[0m\u001b[0m\n\u001b[1;32m    630\u001b[0m   \"\"\"\n\u001b[0;32m--> 631\u001b[0;31m   return nest_util.map_structure(\n\u001b[0m\u001b[1;32m    632\u001b[0m       \u001b[0mnest_util\u001b[0m\u001b[0;34m.\u001b[0m\u001b[0mModality\u001b[0m\u001b[0;34m.\u001b[0m\u001b[0mCORE\u001b[0m\u001b[0;34m,\u001b[0m \u001b[0mfunc\u001b[0m\u001b[0;34m,\u001b[0m \u001b[0;34m*\u001b[0m\u001b[0mstructure\u001b[0m\u001b[0;34m,\u001b[0m \u001b[0;34m**\u001b[0m\u001b[0mkwargs\u001b[0m\u001b[0;34m\u001b[0m\u001b[0;34m\u001b[0m\u001b[0m\n\u001b[1;32m    633\u001b[0m   )\n",
            "\u001b[0;32m/usr/local/lib/python3.10/dist-packages/tensorflow/python/util/nest_util.py\u001b[0m in \u001b[0;36mmap_structure\u001b[0;34m(modality, func, *structure, **kwargs)\u001b[0m\n\u001b[1;32m   1064\u001b[0m   \"\"\"\n\u001b[1;32m   1065\u001b[0m   \u001b[0;32mif\u001b[0m \u001b[0mmodality\u001b[0m \u001b[0;34m==\u001b[0m \u001b[0mModality\u001b[0m\u001b[0;34m.\u001b[0m\u001b[0mCORE\u001b[0m\u001b[0;34m:\u001b[0m\u001b[0;34m\u001b[0m\u001b[0;34m\u001b[0m\u001b[0m\n\u001b[0;32m-> 1066\u001b[0;31m     \u001b[0;32mreturn\u001b[0m \u001b[0m_tf_core_map_structure\u001b[0m\u001b[0;34m(\u001b[0m\u001b[0mfunc\u001b[0m\u001b[0;34m,\u001b[0m \u001b[0;34m*\u001b[0m\u001b[0mstructure\u001b[0m\u001b[0;34m,\u001b[0m \u001b[0;34m**\u001b[0m\u001b[0mkwargs\u001b[0m\u001b[0;34m)\u001b[0m\u001b[0;34m\u001b[0m\u001b[0;34m\u001b[0m\u001b[0m\n\u001b[0m\u001b[1;32m   1067\u001b[0m   \u001b[0;32melif\u001b[0m \u001b[0mmodality\u001b[0m \u001b[0;34m==\u001b[0m \u001b[0mModality\u001b[0m\u001b[0;34m.\u001b[0m\u001b[0mDATA\u001b[0m\u001b[0;34m:\u001b[0m\u001b[0;34m\u001b[0m\u001b[0;34m\u001b[0m\u001b[0m\n\u001b[1;32m   1068\u001b[0m     \u001b[0;32mreturn\u001b[0m \u001b[0m_tf_data_map_structure\u001b[0m\u001b[0;34m(\u001b[0m\u001b[0mfunc\u001b[0m\u001b[0;34m,\u001b[0m \u001b[0;34m*\u001b[0m\u001b[0mstructure\u001b[0m\u001b[0;34m,\u001b[0m \u001b[0;34m**\u001b[0m\u001b[0mkwargs\u001b[0m\u001b[0;34m)\u001b[0m\u001b[0;34m\u001b[0m\u001b[0;34m\u001b[0m\u001b[0m\n",
            "\u001b[0;32m/usr/local/lib/python3.10/dist-packages/tensorflow/python/util/nest_util.py\u001b[0m in \u001b[0;36m_tf_core_map_structure\u001b[0;34m(func, *structure, **kwargs)\u001b[0m\n\u001b[1;32m   1104\u001b[0m   return _tf_core_pack_sequence_as(\n\u001b[1;32m   1105\u001b[0m       \u001b[0mstructure\u001b[0m\u001b[0;34m[\u001b[0m\u001b[0;36m0\u001b[0m\u001b[0;34m]\u001b[0m\u001b[0;34m,\u001b[0m\u001b[0;34m\u001b[0m\u001b[0;34m\u001b[0m\u001b[0m\n\u001b[0;32m-> 1106\u001b[0;31m       \u001b[0;34m[\u001b[0m\u001b[0mfunc\u001b[0m\u001b[0;34m(\u001b[0m\u001b[0;34m*\u001b[0m\u001b[0mx\u001b[0m\u001b[0;34m)\u001b[0m \u001b[0;32mfor\u001b[0m \u001b[0mx\u001b[0m \u001b[0;32min\u001b[0m \u001b[0mentries\u001b[0m\u001b[0;34m]\u001b[0m\u001b[0;34m,\u001b[0m\u001b[0;34m\u001b[0m\u001b[0;34m\u001b[0m\u001b[0m\n\u001b[0m\u001b[1;32m   1107\u001b[0m       \u001b[0mexpand_composites\u001b[0m\u001b[0;34m=\u001b[0m\u001b[0mexpand_composites\u001b[0m\u001b[0;34m,\u001b[0m\u001b[0;34m\u001b[0m\u001b[0;34m\u001b[0m\u001b[0m\n\u001b[1;32m   1108\u001b[0m   )\n",
            "\u001b[0;32m/usr/local/lib/python3.10/dist-packages/tensorflow/python/util/nest_util.py\u001b[0m in \u001b[0;36m<listcomp>\u001b[0;34m(.0)\u001b[0m\n\u001b[1;32m   1104\u001b[0m   return _tf_core_pack_sequence_as(\n\u001b[1;32m   1105\u001b[0m       \u001b[0mstructure\u001b[0m\u001b[0;34m[\u001b[0m\u001b[0;36m0\u001b[0m\u001b[0;34m]\u001b[0m\u001b[0;34m,\u001b[0m\u001b[0;34m\u001b[0m\u001b[0;34m\u001b[0m\u001b[0m\n\u001b[0;32m-> 1106\u001b[0;31m       \u001b[0;34m[\u001b[0m\u001b[0mfunc\u001b[0m\u001b[0;34m(\u001b[0m\u001b[0;34m*\u001b[0m\u001b[0mx\u001b[0m\u001b[0;34m)\u001b[0m \u001b[0;32mfor\u001b[0m \u001b[0mx\u001b[0m \u001b[0;32min\u001b[0m \u001b[0mentries\u001b[0m\u001b[0;34m]\u001b[0m\u001b[0;34m,\u001b[0m\u001b[0;34m\u001b[0m\u001b[0;34m\u001b[0m\u001b[0m\n\u001b[0m\u001b[1;32m   1107\u001b[0m       \u001b[0mexpand_composites\u001b[0m\u001b[0;34m=\u001b[0m\u001b[0mexpand_composites\u001b[0m\u001b[0;34m,\u001b[0m\u001b[0;34m\u001b[0m\u001b[0;34m\u001b[0m\u001b[0m\n\u001b[1;32m   1108\u001b[0m   )\n",
            "\u001b[0;32m/usr/local/lib/python3.10/dist-packages/keras/src/utils/tf_utils.py\u001b[0m in \u001b[0;36m_to_single_numpy_or_python_type\u001b[0;34m(t)\u001b[0m\n\u001b[1;32m    685\u001b[0m         \u001b[0;31m# Don't turn ragged or sparse tensors to NumPy.\u001b[0m\u001b[0;34m\u001b[0m\u001b[0;34m\u001b[0m\u001b[0m\n\u001b[1;32m    686\u001b[0m         \u001b[0;32mif\u001b[0m \u001b[0misinstance\u001b[0m\u001b[0;34m(\u001b[0m\u001b[0mt\u001b[0m\u001b[0;34m,\u001b[0m \u001b[0mtf\u001b[0m\u001b[0;34m.\u001b[0m\u001b[0mTensor\u001b[0m\u001b[0;34m)\u001b[0m\u001b[0;34m:\u001b[0m\u001b[0;34m\u001b[0m\u001b[0;34m\u001b[0m\u001b[0m\n\u001b[0;32m--> 687\u001b[0;31m             \u001b[0mt\u001b[0m \u001b[0;34m=\u001b[0m \u001b[0mt\u001b[0m\u001b[0;34m.\u001b[0m\u001b[0mnumpy\u001b[0m\u001b[0;34m(\u001b[0m\u001b[0;34m)\u001b[0m\u001b[0;34m\u001b[0m\u001b[0;34m\u001b[0m\u001b[0m\n\u001b[0m\u001b[1;32m    688\u001b[0m         \u001b[0;31m# Strings, ragged and sparse tensors don't have .item(). Return them\u001b[0m\u001b[0;34m\u001b[0m\u001b[0;34m\u001b[0m\u001b[0m\n\u001b[1;32m    689\u001b[0m         \u001b[0;31m# as-is.\u001b[0m\u001b[0;34m\u001b[0m\u001b[0;34m\u001b[0m\u001b[0m\n",
            "\u001b[0;32m/usr/local/lib/python3.10/dist-packages/tensorflow/python/framework/ops.py\u001b[0m in \u001b[0;36mnumpy\u001b[0;34m(self)\u001b[0m\n\u001b[1;32m    392\u001b[0m     \"\"\"\n\u001b[1;32m    393\u001b[0m     \u001b[0;31m# TODO(slebedev): Consider avoiding a copy for non-CPU or remote tensors.\u001b[0m\u001b[0;34m\u001b[0m\u001b[0;34m\u001b[0m\u001b[0m\n\u001b[0;32m--> 394\u001b[0;31m     \u001b[0mmaybe_arr\u001b[0m \u001b[0;34m=\u001b[0m \u001b[0mself\u001b[0m\u001b[0;34m.\u001b[0m\u001b[0m_numpy\u001b[0m\u001b[0;34m(\u001b[0m\u001b[0;34m)\u001b[0m  \u001b[0;31m# pylint: disable=protected-access\u001b[0m\u001b[0;34m\u001b[0m\u001b[0;34m\u001b[0m\u001b[0m\n\u001b[0m\u001b[1;32m    395\u001b[0m     \u001b[0;32mreturn\u001b[0m \u001b[0mmaybe_arr\u001b[0m\u001b[0;34m.\u001b[0m\u001b[0mcopy\u001b[0m\u001b[0;34m(\u001b[0m\u001b[0;34m)\u001b[0m \u001b[0;32mif\u001b[0m \u001b[0misinstance\u001b[0m\u001b[0;34m(\u001b[0m\u001b[0mmaybe_arr\u001b[0m\u001b[0;34m,\u001b[0m \u001b[0mnp\u001b[0m\u001b[0;34m.\u001b[0m\u001b[0mndarray\u001b[0m\u001b[0;34m)\u001b[0m \u001b[0;32melse\u001b[0m \u001b[0mmaybe_arr\u001b[0m\u001b[0;34m\u001b[0m\u001b[0;34m\u001b[0m\u001b[0m\n\u001b[1;32m    396\u001b[0m \u001b[0;34m\u001b[0m\u001b[0m\n",
            "\u001b[0;32m/usr/local/lib/python3.10/dist-packages/tensorflow/python/framework/ops.py\u001b[0m in \u001b[0;36m_numpy\u001b[0;34m(self)\u001b[0m\n\u001b[1;32m    358\u001b[0m   \u001b[0;32mdef\u001b[0m \u001b[0m_numpy\u001b[0m\u001b[0;34m(\u001b[0m\u001b[0mself\u001b[0m\u001b[0;34m)\u001b[0m\u001b[0;34m:\u001b[0m\u001b[0;34m\u001b[0m\u001b[0;34m\u001b[0m\u001b[0m\n\u001b[1;32m    359\u001b[0m     \u001b[0;32mtry\u001b[0m\u001b[0;34m:\u001b[0m\u001b[0;34m\u001b[0m\u001b[0;34m\u001b[0m\u001b[0m\n\u001b[0;32m--> 360\u001b[0;31m       \u001b[0;32mreturn\u001b[0m \u001b[0mself\u001b[0m\u001b[0;34m.\u001b[0m\u001b[0m_numpy_internal\u001b[0m\u001b[0;34m(\u001b[0m\u001b[0;34m)\u001b[0m\u001b[0;34m\u001b[0m\u001b[0;34m\u001b[0m\u001b[0m\n\u001b[0m\u001b[1;32m    361\u001b[0m     \u001b[0;32mexcept\u001b[0m \u001b[0mcore\u001b[0m\u001b[0;34m.\u001b[0m\u001b[0m_NotOkStatusException\u001b[0m \u001b[0;32mas\u001b[0m \u001b[0me\u001b[0m\u001b[0;34m:\u001b[0m  \u001b[0;31m# pylint: disable=protected-access\u001b[0m\u001b[0;34m\u001b[0m\u001b[0;34m\u001b[0m\u001b[0m\n\u001b[1;32m    362\u001b[0m       \u001b[0;32mraise\u001b[0m \u001b[0mcore\u001b[0m\u001b[0;34m.\u001b[0m\u001b[0m_status_to_exception\u001b[0m\u001b[0;34m(\u001b[0m\u001b[0me\u001b[0m\u001b[0;34m)\u001b[0m \u001b[0;32mfrom\u001b[0m \u001b[0;32mNone\u001b[0m  \u001b[0;31m# pylint: disable=protected-access\u001b[0m\u001b[0;34m\u001b[0m\u001b[0;34m\u001b[0m\u001b[0m\n",
            "\u001b[0;31mKeyboardInterrupt\u001b[0m: "
          ]
        }
      ]
    },
    {
      "cell_type": "code",
      "source": [
        "model.save(\"/content/model2.h5\")"
      ],
      "metadata": {
        "id": "kP2Xc6W_Vvdz"
      },
      "execution_count": null,
      "outputs": []
    },
    {
      "cell_type": "code",
      "source": [
        "display_gender_acc_graph(history)\n",
        "\n",
        "display_gender_loss_graph(history)\n",
        "\n",
        "display_age_acc_graph(history)\n",
        "\n",
        "display_age_loss_graph(history)"
      ],
      "metadata": {
        "id": "Ev_HQv5cBG0W"
      },
      "execution_count": null,
      "outputs": []
    }
  ]
}